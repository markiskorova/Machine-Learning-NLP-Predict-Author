{
  "cells": [
    {
      "cell_type": "markdown",
      "source": [
        "#### Machine Learning Project: Train Model to predict the author of a phrase\n",
        "#### Marc McAllister\n",
        "#### 2024\n",
        "\n",
        "###### Suggestions are welcome. Thank you."
      ],
      "metadata": {
        "nteract": {
          "transient": {
            "deleting": false
          }
        }
      }
    },
    {
      "cell_type": "code",
      "source": [
        "!pip install tensorflow pandas scikit-learn\n",
        "!pip install tensorflow\n",
        "!pip install pandas\n",
        "!pip install scikit-learn\n",
        "!pip install nltk\n",
        "#nltk.download('stopwords')"
      ],
      "outputs": [
        {
          "output_type": "stream",
          "name": "stdout",
          "text": "Requirement already satisfied: tensorflow in /anaconda/envs/azureml_py38/lib/python3.9/site-packages (2.16.2)\nRequirement already satisfied: pandas in /anaconda/envs/azureml_py38/lib/python3.9/site-packages (1.1.5)\nRequirement already satisfied: scikit-learn in /anaconda/envs/azureml_py38/lib/python3.9/site-packages (1.1.3)\nRequirement already satisfied: numpy<2.0.0,>=1.23.5 in /anaconda/envs/azureml_py38/lib/python3.9/site-packages (from tensorflow) (1.26.4)\nRequirement already satisfied: h5py>=3.10.0 in /anaconda/envs/azureml_py38/lib/python3.9/site-packages (from tensorflow) (3.11.0)\nRequirement already satisfied: packaging in /anaconda/envs/azureml_py38/lib/python3.9/site-packages (from tensorflow) (24.0)\nRequirement already satisfied: termcolor>=1.1.0 in /anaconda/envs/azureml_py38/lib/python3.9/site-packages (from tensorflow) (1.1.0)\nRequirement already satisfied: ml-dtypes~=0.3.1 in /anaconda/envs/azureml_py38/lib/python3.9/site-packages (from tensorflow) (0.3.2)\nRequirement already satisfied: setuptools in /anaconda/envs/azureml_py38/lib/python3.9/site-packages (from tensorflow) (68.0.0)\nRequirement already satisfied: google-pasta>=0.1.1 in /anaconda/envs/azureml_py38/lib/python3.9/site-packages (from tensorflow) (0.2.0)\nRequirement already satisfied: tensorboard<2.17,>=2.16 in /anaconda/envs/azureml_py38/lib/python3.9/site-packages (from tensorflow) (2.16.2)\nRequirement already satisfied: gast!=0.5.0,!=0.5.1,!=0.5.2,>=0.2.1 in /anaconda/envs/azureml_py38/lib/python3.9/site-packages (from tensorflow) (0.4.0)\nRequirement already satisfied: astunparse>=1.6.0 in /anaconda/envs/azureml_py38/lib/python3.9/site-packages (from tensorflow) (1.6.3)\nRequirement already satisfied: flatbuffers>=23.5.26 in /anaconda/envs/azureml_py38/lib/python3.9/site-packages (from tensorflow) (24.3.25)\nRequirement already satisfied: requests<3,>=2.21.0 in /anaconda/envs/azureml_py38/lib/python3.9/site-packages (from tensorflow) (2.31.0)\nRequirement already satisfied: absl-py>=1.0.0 in /anaconda/envs/azureml_py38/lib/python3.9/site-packages (from tensorflow) (2.1.0)\nRequirement already satisfied: tensorflow-io-gcs-filesystem>=0.23.1 in /anaconda/envs/azureml_py38/lib/python3.9/site-packages (from tensorflow) (0.37.0)\nRequirement already satisfied: libclang>=13.0.0 in /anaconda/envs/azureml_py38/lib/python3.9/site-packages (from tensorflow) (18.1.1)\nRequirement already satisfied: six>=1.12.0 in /anaconda/envs/azureml_py38/lib/python3.9/site-packages (from tensorflow) (1.15.0)\nRequirement already satisfied: keras>=3.0.0 in /anaconda/envs/azureml_py38/lib/python3.9/site-packages (from tensorflow) (3.3.3)\nRequirement already satisfied: opt-einsum>=2.3.2 in /anaconda/envs/azureml_py38/lib/python3.9/site-packages (from tensorflow) (3.3.0)\nRequirement already satisfied: typing-extensions>=3.6.6 in /anaconda/envs/azureml_py38/lib/python3.9/site-packages (from tensorflow) (4.12.2)\nRequirement already satisfied: wrapt>=1.11.0 in /anaconda/envs/azureml_py38/lib/python3.9/site-packages (from tensorflow) (1.12.1)\nRequirement already satisfied: protobuf!=4.21.0,!=4.21.1,!=4.21.2,!=4.21.3,!=4.21.4,!=4.21.5,<5.0.0dev,>=3.20.3 in /anaconda/envs/azureml_py38/lib/python3.9/site-packages (from tensorflow) (3.20.3)\nRequirement already satisfied: grpcio<2.0,>=1.24.3 in /anaconda/envs/azureml_py38/lib/python3.9/site-packages (from tensorflow) (1.64.1)\nRequirement already satisfied: python-dateutil>=2.7.3 in /anaconda/envs/azureml_py38/lib/python3.9/site-packages (from pandas) (2.9.0.post0)\nRequirement already satisfied: pytz>=2017.2 in /anaconda/envs/azureml_py38/lib/python3.9/site-packages (from pandas) (2022.5)\nRequirement already satisfied: threadpoolctl>=2.0.0 in /anaconda/envs/azureml_py38/lib/python3.9/site-packages (from scikit-learn) (3.4.0)\nRequirement already satisfied: scipy>=1.3.2 in /anaconda/envs/azureml_py38/lib/python3.9/site-packages (from scikit-learn) (1.5.3)\nRequirement already satisfied: joblib>=1.0.0 in /anaconda/envs/azureml_py38/lib/python3.9/site-packages (from scikit-learn) (1.2.0)\nRequirement already satisfied: wheel<1.0,>=0.23.0 in /anaconda/envs/azureml_py38/lib/python3.9/site-packages (from astunparse>=1.6.0->tensorflow) (0.41.2)\nRequirement already satisfied: optree in /anaconda/envs/azureml_py38/lib/python3.9/site-packages (from keras>=3.0.0->tensorflow) (0.11.0)\nRequirement already satisfied: namex in /anaconda/envs/azureml_py38/lib/python3.9/site-packages (from keras>=3.0.0->tensorflow) (0.0.8)\nRequirement already satisfied: rich in /anaconda/envs/azureml_py38/lib/python3.9/site-packages (from keras>=3.0.0->tensorflow) (13.7.1)\nRequirement already satisfied: charset-normalizer<4,>=2 in /anaconda/envs/azureml_py38/lib/python3.9/site-packages (from requests<3,>=2.21.0->tensorflow) (3.3.2)\nRequirement already satisfied: certifi>=2017.4.17 in /anaconda/envs/azureml_py38/lib/python3.9/site-packages (from requests<3,>=2.21.0->tensorflow) (2022.9.24)\nRequirement already satisfied: idna<4,>=2.5 in /anaconda/envs/azureml_py38/lib/python3.9/site-packages (from requests<3,>=2.21.0->tensorflow) (3.7)\nRequirement already satisfied: urllib3<3,>=1.21.1 in /anaconda/envs/azureml_py38/lib/python3.9/site-packages (from requests<3,>=2.21.0->tensorflow) (1.26.18)\nRequirement already satisfied: werkzeug>=1.0.1 in /anaconda/envs/azureml_py38/lib/python3.9/site-packages (from tensorboard<2.17,>=2.16->tensorflow) (2.2.3)\nRequirement already satisfied: markdown>=2.6.8 in /anaconda/envs/azureml_py38/lib/python3.9/site-packages (from tensorboard<2.17,>=2.16->tensorflow) (3.6)\nRequirement already satisfied: tensorboard-data-server<0.8.0,>=0.7.0 in /anaconda/envs/azureml_py38/lib/python3.9/site-packages (from tensorboard<2.17,>=2.16->tensorflow) (0.7.2)\nRequirement already satisfied: importlib-metadata>=4.4 in /anaconda/envs/azureml_py38/lib/python3.9/site-packages (from markdown>=2.6.8->tensorboard<2.17,>=2.16->tensorflow) (7.1.0)\nRequirement already satisfied: MarkupSafe>=2.1.1 in /anaconda/envs/azureml_py38/lib/python3.9/site-packages (from werkzeug>=1.0.1->tensorboard<2.17,>=2.16->tensorflow) (2.1.5)\nRequirement already satisfied: pygments<3.0.0,>=2.13.0 in /anaconda/envs/azureml_py38/lib/python3.9/site-packages (from rich->keras>=3.0.0->tensorflow) (2.18.0)\nRequirement already satisfied: markdown-it-py>=2.2.0 in /anaconda/envs/azureml_py38/lib/python3.9/site-packages (from rich->keras>=3.0.0->tensorflow) (3.0.0)\nRequirement already satisfied: zipp>=0.5 in /anaconda/envs/azureml_py38/lib/python3.9/site-packages (from importlib-metadata>=4.4->markdown>=2.6.8->tensorboard<2.17,>=2.16->tensorflow) (3.12.0)\nRequirement already satisfied: mdurl~=0.1 in /anaconda/envs/azureml_py38/lib/python3.9/site-packages (from markdown-it-py>=2.2.0->rich->keras>=3.0.0->tensorflow) (0.1.2)\nRequirement already satisfied: tensorflow in /anaconda/envs/azureml_py38/lib/python3.9/site-packages (2.16.2)\nRequirement already satisfied: keras>=3.0.0 in /anaconda/envs/azureml_py38/lib/python3.9/site-packages (from tensorflow) (3.3.3)\nRequirement already satisfied: ml-dtypes~=0.3.1 in /anaconda/envs/azureml_py38/lib/python3.9/site-packages (from tensorflow) (0.3.2)\nRequirement already satisfied: h5py>=3.10.0 in /anaconda/envs/azureml_py38/lib/python3.9/site-packages (from tensorflow) (3.11.0)\nRequirement already satisfied: gast!=0.5.0,!=0.5.1,!=0.5.2,>=0.2.1 in /anaconda/envs/azureml_py38/lib/python3.9/site-packages (from tensorflow) (0.4.0)\nRequirement already satisfied: tensorboard<2.17,>=2.16 in /anaconda/envs/azureml_py38/lib/python3.9/site-packages (from tensorflow) (2.16.2)\nRequirement already satisfied: libclang>=13.0.0 in /anaconda/envs/azureml_py38/lib/python3.9/site-packages (from tensorflow) (18.1.1)\nRequirement already satisfied: numpy<2.0.0,>=1.23.5 in /anaconda/envs/azureml_py38/lib/python3.9/site-packages (from tensorflow) (1.26.4)\nRequirement already satisfied: tensorflow-io-gcs-filesystem>=0.23.1 in /anaconda/envs/azureml_py38/lib/python3.9/site-packages (from tensorflow) (0.37.0)\nRequirement already satisfied: grpcio<2.0,>=1.24.3 in /anaconda/envs/azureml_py38/lib/python3.9/site-packages (from tensorflow) (1.64.1)\nRequirement already satisfied: termcolor>=1.1.0 in /anaconda/envs/azureml_py38/lib/python3.9/site-packages (from tensorflow) (1.1.0)\nRequirement already satisfied: packaging in /anaconda/envs/azureml_py38/lib/python3.9/site-packages (from tensorflow) (24.0)\nRequirement already satisfied: flatbuffers>=23.5.26 in /anaconda/envs/azureml_py38/lib/python3.9/site-packages (from tensorflow) (24.3.25)\nRequirement already satisfied: google-pasta>=0.1.1 in /anaconda/envs/azureml_py38/lib/python3.9/site-packages (from tensorflow) (0.2.0)\nRequirement already satisfied: typing-extensions>=3.6.6 in /anaconda/envs/azureml_py38/lib/python3.9/site-packages (from tensorflow) (4.12.2)\nRequirement already satisfied: six>=1.12.0 in /anaconda/envs/azureml_py38/lib/python3.9/site-packages (from tensorflow) (1.15.0)\nRequirement already satisfied: wrapt>=1.11.0 in /anaconda/envs/azureml_py38/lib/python3.9/site-packages (from tensorflow) (1.12.1)\nRequirement already satisfied: astunparse>=1.6.0 in /anaconda/envs/azureml_py38/lib/python3.9/site-packages (from tensorflow) (1.6.3)\nRequirement already satisfied: requests<3,>=2.21.0 in /anaconda/envs/azureml_py38/lib/python3.9/site-packages (from tensorflow) (2.31.0)\nRequirement already satisfied: opt-einsum>=2.3.2 in /anaconda/envs/azureml_py38/lib/python3.9/site-packages (from tensorflow) (3.3.0)\nRequirement already satisfied: protobuf!=4.21.0,!=4.21.1,!=4.21.2,!=4.21.3,!=4.21.4,!=4.21.5,<5.0.0dev,>=3.20.3 in /anaconda/envs/azureml_py38/lib/python3.9/site-packages (from tensorflow) (3.20.3)\nRequirement already satisfied: absl-py>=1.0.0 in /anaconda/envs/azureml_py38/lib/python3.9/site-packages (from tensorflow) (2.1.0)\nRequirement already satisfied: setuptools in /anaconda/envs/azureml_py38/lib/python3.9/site-packages (from tensorflow) (68.0.0)\nRequirement already satisfied: wheel<1.0,>=0.23.0 in /anaconda/envs/azureml_py38/lib/python3.9/site-packages (from astunparse>=1.6.0->tensorflow) (0.41.2)\nRequirement already satisfied: optree in /anaconda/envs/azureml_py38/lib/python3.9/site-packages (from keras>=3.0.0->tensorflow) (0.11.0)\nRequirement already satisfied: namex in /anaconda/envs/azureml_py38/lib/python3.9/site-packages (from keras>=3.0.0->tensorflow) (0.0.8)\nRequirement already satisfied: rich in /anaconda/envs/azureml_py38/lib/python3.9/site-packages (from keras>=3.0.0->tensorflow) (13.7.1)\nRequirement already satisfied: idna<4,>=2.5 in /anaconda/envs/azureml_py38/lib/python3.9/site-packages (from requests<3,>=2.21.0->tensorflow) (3.7)\nRequirement already satisfied: urllib3<3,>=1.21.1 in /anaconda/envs/azureml_py38/lib/python3.9/site-packages (from requests<3,>=2.21.0->tensorflow) (1.26.18)\nRequirement already satisfied: certifi>=2017.4.17 in /anaconda/envs/azureml_py38/lib/python3.9/site-packages (from requests<3,>=2.21.0->tensorflow) (2022.9.24)\nRequirement already satisfied: charset-normalizer<4,>=2 in /anaconda/envs/azureml_py38/lib/python3.9/site-packages (from requests<3,>=2.21.0->tensorflow) (3.3.2)\nRequirement already satisfied: markdown>=2.6.8 in /anaconda/envs/azureml_py38/lib/python3.9/site-packages (from tensorboard<2.17,>=2.16->tensorflow) (3.6)\nRequirement already satisfied: werkzeug>=1.0.1 in /anaconda/envs/azureml_py38/lib/python3.9/site-packages (from tensorboard<2.17,>=2.16->tensorflow) (2.2.3)\nRequirement already satisfied: tensorboard-data-server<0.8.0,>=0.7.0 in /anaconda/envs/azureml_py38/lib/python3.9/site-packages (from tensorboard<2.17,>=2.16->tensorflow) (0.7.2)\nRequirement already satisfied: importlib-metadata>=4.4 in /anaconda/envs/azureml_py38/lib/python3.9/site-packages (from markdown>=2.6.8->tensorboard<2.17,>=2.16->tensorflow) (7.1.0)\nRequirement already satisfied: MarkupSafe>=2.1.1 in /anaconda/envs/azureml_py38/lib/python3.9/site-packages (from werkzeug>=1.0.1->tensorboard<2.17,>=2.16->tensorflow) (2.1.5)\nRequirement already satisfied: pygments<3.0.0,>=2.13.0 in /anaconda/envs/azureml_py38/lib/python3.9/site-packages (from rich->keras>=3.0.0->tensorflow) (2.18.0)\nRequirement already satisfied: markdown-it-py>=2.2.0 in /anaconda/envs/azureml_py38/lib/python3.9/site-packages (from rich->keras>=3.0.0->tensorflow) (3.0.0)\nRequirement already satisfied: zipp>=0.5 in /anaconda/envs/azureml_py38/lib/python3.9/site-packages (from importlib-metadata>=4.4->markdown>=2.6.8->tensorboard<2.17,>=2.16->tensorflow) (3.12.0)\nRequirement already satisfied: mdurl~=0.1 in /anaconda/envs/azureml_py38/lib/python3.9/site-packages (from markdown-it-py>=2.2.0->rich->keras>=3.0.0->tensorflow) (0.1.2)\nRequirement already satisfied: pandas in /anaconda/envs/azureml_py38/lib/python3.9/site-packages (1.1.5)\nRequirement already satisfied: pytz>=2017.2 in /anaconda/envs/azureml_py38/lib/python3.9/site-packages (from pandas) (2022.5)\nRequirement already satisfied: python-dateutil>=2.7.3 in /anaconda/envs/azureml_py38/lib/python3.9/site-packages (from pandas) (2.9.0.post0)\nRequirement already satisfied: numpy>=1.15.4 in /anaconda/envs/azureml_py38/lib/python3.9/site-packages (from pandas) (1.26.4)\nRequirement already satisfied: six>=1.5 in /anaconda/envs/azureml_py38/lib/python3.9/site-packages (from python-dateutil>=2.7.3->pandas) (1.15.0)\nRequirement already satisfied: scikit-learn in /anaconda/envs/azureml_py38/lib/python3.9/site-packages (1.1.3)\nRequirement already satisfied: joblib>=1.0.0 in /anaconda/envs/azureml_py38/lib/python3.9/site-packages (from scikit-learn) (1.2.0)\nRequirement already satisfied: scipy>=1.3.2 in /anaconda/envs/azureml_py38/lib/python3.9/site-packages (from scikit-learn) (1.5.3)\nRequirement already satisfied: threadpoolctl>=2.0.0 in /anaconda/envs/azureml_py38/lib/python3.9/site-packages (from scikit-learn) (3.4.0)\nRequirement already satisfied: numpy>=1.17.3 in /anaconda/envs/azureml_py38/lib/python3.9/site-packages (from scikit-learn) (1.26.4)\nRequirement already satisfied: nltk in /anaconda/envs/azureml_py38/lib/python3.9/site-packages (3.8.1)\nRequirement already satisfied: joblib in /anaconda/envs/azureml_py38/lib/python3.9/site-packages (from nltk) (1.2.0)\nRequirement already satisfied: regex>=2021.8.3 in /anaconda/envs/azureml_py38/lib/python3.9/site-packages (from nltk) (2024.4.28)\nRequirement already satisfied: tqdm in /anaconda/envs/azureml_py38/lib/python3.9/site-packages (from nltk) (4.66.2)\nRequirement already satisfied: click in /anaconda/envs/azureml_py38/lib/python3.9/site-packages (from nltk) (8.1.7)\n"
        }
      ],
      "execution_count": 1,
      "metadata": {
        "id": "CqkAWQVP3Lqq",
        "trusted": true,
        "gather": {
          "logged": 1720644574477
        }
      }
    },
    {
      "cell_type": "code",
      "source": [
        "import tensorflow as tf\n",
        "from tensorflow.keras import layers, models\n",
        "import pandas as pd\n",
        "import numpy as np\n",
        "from sklearn.model_selection import train_test_split\n",
        "from sklearn.feature_extraction.text import CountVectorizer\n",
        "from sklearn.preprocessing import LabelEncoder\n",
        "from sklearn.metrics import accuracy_score\n",
        "from scipy.sparse import csr_matrix\n",
        "\n",
        "import seaborn as sns                       #visualisation\n",
        "import matplotlib.pyplot as plt             #visualisation\n",
        "import pickle\n",
        "\n",
        "import pathlib\n",
        "import os\n",
        "\n",
        "from nltk.corpus import stopwords"
      ],
      "outputs": [
        {
          "output_type": "stream",
          "name": "stderr",
          "text": "2024-07-10 20:49:34.544313: E external/local_xla/xla/stream_executor/cuda/cuda_fft.cc:479] Unable to register cuFFT factory: Attempting to register factory for plugin cuFFT when one has already been registered\n2024-07-10 20:49:34.559812: E external/local_xla/xla/stream_executor/cuda/cuda_dnn.cc:10575] Unable to register cuDNN factory: Attempting to register factory for plugin cuDNN when one has already been registered\n2024-07-10 20:49:34.559835: E external/local_xla/xla/stream_executor/cuda/cuda_blas.cc:1442] Unable to register cuBLAS factory: Attempting to register factory for plugin cuBLAS when one has already been registered\n2024-07-10 20:49:34.570216: I tensorflow/core/platform/cpu_feature_guard.cc:210] This TensorFlow binary is optimized to use available CPU instructions in performance-critical operations.\nTo enable the following instructions: AVX2 FMA, in other operations, rebuild TensorFlow with the appropriate compiler flags.\n2024-07-10 20:49:35.398154: W tensorflow/compiler/tf2tensorrt/utils/py_utils.cc:38] TF-TRT Warning: Could not find TensorRT\n"
        }
      ],
      "execution_count": 2,
      "metadata": {
        "id": "ZA47UzCtsY9B",
        "execution": {
          "iopub.status.busy": "2024-01-27T16:20:18.432246Z",
          "iopub.execute_input": "2024-01-27T16:20:18.432685Z",
          "iopub.status.idle": "2024-01-27T16:20:34.000604Z",
          "shell.execute_reply.started": "2024-01-27T16:20:18.432650Z",
          "shell.execute_reply": "2024-01-27T16:20:33.999374Z"
        },
        "trusted": true,
        "gather": {
          "logged": 1720644576686
        }
      }
    },
    {
      "cell_type": "code",
      "source": [
        "folderpath = \"sources\"\n",
        "\n",
        "filenames = list()\n",
        "\n",
        "for name in os.listdir(folderpath):\n",
        "    if name.endswith('txt'):\n",
        "        filenames.append(name)\n",
        "        \n",
        "#filenames"
      ],
      "outputs": [],
      "execution_count": 3,
      "metadata": {
        "jupyter": {
          "source_hidden": false,
          "outputs_hidden": false
        },
        "nteract": {
          "transient": {
            "deleting": false
          }
        },
        "gather": {
          "logged": 1720644576979
        }
      }
    },
    {
      "cell_type": "code",
      "source": [
        "# Get and Process Data \n",
        "\n",
        "titles = []\n",
        "\n",
        "df = pd.DataFrame(columns=['Author','Text'])\n",
        "\n",
        "for fname in filenames:\n",
        "    samplefilepath = 'sources/' + fname\n",
        "    sampletext = pathlib.Path(samplefilepath).read_text()\n",
        "\n",
        "    title = sampletext.split('\\n')[0]\n",
        "    authorname = sampletext.split('\\n')[1]\n",
        "\n",
        "    sampletext = sampletext.replace(\"\\n\", \" \")\n",
        "    sampletext_sentences = sampletext.split(\".\")\n",
        "\n",
        "    titles.append(title)\n",
        "\n",
        "    i = len(sampletext_sentences)\n",
        "\n",
        "    data = {'Author': [authorname]*i,\n",
        "        'Text': sampletext_sentences}\n",
        "\n",
        "    dfsub = pd.DataFrame(data, columns=['Author','Text'])\n",
        "    df = pd.concat([df, dfsub])\n",
        "\n",
        "#titles\n",
        "#df"
      ],
      "outputs": [],
      "execution_count": 4,
      "metadata": {
        "jupyter": {
          "source_hidden": false,
          "outputs_hidden": false
        },
        "nteract": {
          "transient": {
            "deleting": false
          }
        },
        "gather": {
          "logged": 1720644577231
        }
      }
    },
    {
      "cell_type": "code",
      "source": [
        "# Start building Model\n",
        "\n",
        "train_texts, test_texts, train_labels, test_labels = train_test_split(df['Text'], df['Author'], test_size=0.2, random_state=42)"
      ],
      "outputs": [],
      "execution_count": 5,
      "metadata": {
        "id": "wKtLCdqH1MfO",
        "execution": {
          "iopub.status.busy": "2024-01-27T16:22:40.352415Z",
          "iopub.execute_input": "2024-01-27T16:22:40.353667Z",
          "iopub.status.idle": "2024-01-27T16:22:40.363053Z",
          "shell.execute_reply.started": "2024-01-27T16:22:40.353614Z",
          "shell.execute_reply": "2024-01-27T16:22:40.361920Z"
        },
        "trusted": true,
        "gather": {
          "logged": 1720644577537
        }
      }
    },
    {
      "cell_type": "code",
      "source": [
        "# Tokenize and vectorize text data\n",
        "\n",
        "vectorizer = CountVectorizer(stop_words='english')\n",
        "X_train = vectorizer.fit_transform(train_texts)\n",
        "X_test = vectorizer.transform(test_texts)"
      ],
      "outputs": [],
      "execution_count": 6,
      "metadata": {
        "id": "smx6lbID_cKz",
        "execution": {
          "iopub.status.busy": "2024-01-27T16:22:43.981283Z",
          "iopub.execute_input": "2024-01-27T16:22:43.981911Z",
          "iopub.status.idle": "2024-01-27T16:22:44.456017Z",
          "shell.execute_reply.started": "2024-01-27T16:22:43.981880Z",
          "shell.execute_reply": "2024-01-27T16:22:44.454932Z"
        },
        "trusted": true,
        "gather": {
          "logged": 1720644577802
        }
      }
    },
    {
      "cell_type": "code",
      "source": [
        "# Encode the labels\n",
        "\n",
        "label_encoder = LabelEncoder()\n",
        "y_train = label_encoder.fit_transform(train_labels)\n",
        "y_test = label_encoder.transform(test_labels)\n",
        "\n",
        "y_test"
      ],
      "outputs": [
        {
          "output_type": "execute_result",
          "execution_count": 7,
          "data": {
            "text/plain": "array([1, 2, 3, ..., 3, 2, 1])"
          },
          "metadata": {}
        }
      ],
      "execution_count": 7,
      "metadata": {
        "id": "MBe37DLY_vJJ",
        "execution": {
          "iopub.status.busy": "2024-01-27T16:22:47.319703Z",
          "iopub.execute_input": "2024-01-27T16:22:47.320149Z",
          "iopub.status.idle": "2024-01-27T16:22:47.329241Z",
          "shell.execute_reply.started": "2024-01-27T16:22:47.320117Z",
          "shell.execute_reply": "2024-01-27T16:22:47.328350Z"
        },
        "trusted": true,
        "gather": {
          "logged": 1720644578105
        }
      }
    },
    {
      "cell_type": "code",
      "source": [
        "# Build the model\n",
        "\n",
        "model = models.Sequential([\n",
        "    layers.Dense(64, activation='relu', input_shape=(X_train.shape[1],)),\n",
        "    layers.Dense(32, activation='relu'),\n",
        "    layers.Dense(len(label_encoder.classes_), activation='softmax')\n",
        "])\n",
        "\n",
        "model.compile(optimizer='adam', loss='sparse_categorical_crossentropy', metrics=['accuracy'])"
      ],
      "outputs": [
        {
          "output_type": "stream",
          "name": "stderr",
          "text": "/anaconda/envs/azureml_py38/lib/python3.9/site-packages/keras/src/layers/core/dense.py:87: UserWarning: Do not pass an `input_shape`/`input_dim` argument to a layer. When using Sequential models, prefer using an `Input(shape)` object as the first layer in the model instead.\n  super().__init__(activity_regularizer=activity_regularizer, **kwargs)\n2024-07-10 20:49:40.649653: E external/local_xla/xla/stream_executor/cuda/cuda_driver.cc:282] failed call to cuInit: CUDA_ERROR_NO_DEVICE: no CUDA-capable device is detected\n"
        }
      ],
      "execution_count": 8,
      "metadata": {
        "id": "O6jNBPIJ_yqc",
        "execution": {
          "iopub.status.busy": "2024-01-27T16:22:50.000518Z",
          "iopub.execute_input": "2024-01-27T16:22:50.000941Z",
          "iopub.status.idle": "2024-01-27T16:22:50.234616Z",
          "shell.execute_reply.started": "2024-01-27T16:22:50.000910Z",
          "shell.execute_reply": "2024-01-27T16:22:50.233640Z"
        },
        "trusted": true,
        "gather": {
          "logged": 1720644580940
        }
      }
    },
    {
      "cell_type": "code",
      "source": [
        "X_train, X_val, y_train, y_val = train_test_split(X_train, y_train, test_size=0.2, random_state=42)"
      ],
      "outputs": [],
      "execution_count": 9,
      "metadata": {
        "id": "GhCcMjW1A7Of",
        "execution": {
          "iopub.status.busy": "2024-01-27T16:22:53.060811Z",
          "iopub.execute_input": "2024-01-27T16:22:53.061285Z",
          "iopub.status.idle": "2024-01-27T16:22:53.072771Z",
          "shell.execute_reply.started": "2024-01-27T16:22:53.061250Z",
          "shell.execute_reply": "2024-01-27T16:22:53.071607Z"
        },
        "trusted": true,
        "gather": {
          "logged": 1720644582169
        }
      }
    },
    {
      "cell_type": "code",
      "source": [
        "# Convert sparse matrices\n",
        "\n",
        "X_train_sparse = tf.convert_to_tensor(csr_matrix(X_train).todense(), dtype=tf.float32)\n",
        "X_val_sparse = tf.convert_to_tensor(csr_matrix(X_val).todense(), dtype=tf.float32)\n",
        "X_test_sparse = tf.convert_to_tensor(csr_matrix(X_test).todense(), dtype=tf.float32)"
      ],
      "outputs": [],
      "execution_count": 10,
      "metadata": {
        "id": "7kDXotUGBOUN",
        "execution": {
          "iopub.status.busy": "2024-01-27T16:22:55.535092Z",
          "iopub.execute_input": "2024-01-27T16:22:55.535584Z",
          "iopub.status.idle": "2024-01-27T16:23:00.484501Z",
          "shell.execute_reply.started": "2024-01-27T16:22:55.535542Z",
          "shell.execute_reply": "2024-01-27T16:23:00.483522Z"
        },
        "trusted": true,
        "gather": {
          "logged": 1720644582697
        }
      }
    },
    {
      "cell_type": "code",
      "source": [
        "# Train the Model\n",
        "\n",
        "history = model.fit(X_train_sparse, y_train, epochs=10, batch_size=32, validation_data=(X_val_sparse, y_val))"
      ],
      "outputs": [
        {
          "output_type": "stream",
          "name": "stdout",
          "text": "Epoch 1/10\n\u001b[1m704/704\u001b[0m \u001b[32m━━━━━━━━━━━━━━━━━━━━\u001b[0m\u001b[37m\u001b[0m \u001b[1m3s\u001b[0m 4ms/step - accuracy: 0.6369 - loss: 0.9114 - val_accuracy: 0.7956 - val_loss: 0.5328\b\b\b\b\b\b\b\b\b\b\b\b\b\b\b\b\b\b\b\b\b\b\b\b\b\b\b\b\b\b\b\b\nEpoch 2/10\n\u001b[1m704/704\u001b[0m \u001b[32m━━━━━━━━━━━━━━━━━━━━\u001b[0m\u001b[37m\u001b[0m \u001b[1m2s\u001b[0m 3ms/step - accuracy: 0.8612 - loss: 0.3629 - val_accuracy: 0.7953 - val_loss: 0.5522\b\b\b\b\b\b\b\b\b\b\b\b\b\b\b\b\b\b\b\b\b\b\b\b\b\b\b\b\b\b\b\b\nEpoch 3/10\n\u001b[1m704/704\u001b[0m \u001b[32m━━━━━━━━━━━━━━━━━━━━\u001b[0m\u001b[37m\u001b[0m \u001b[1m2s\u001b[0m 3ms/step - accuracy: 0.8954 - loss: 0.2656 - val_accuracy: 0.7896 - val_loss: 0.5868\b\b\b\b\b\b\b\b\b\b\b\b\b\b\b\b\b\b\b\b\b\b\b\b\b\b\b\b\b\b\b\b\nEpoch 4/10\n\u001b[1m704/704\u001b[0m \u001b[32m━━━━━━━━━━━━━━━━━━━━\u001b[0m\u001b[37m\u001b[0m \u001b[1m2s\u001b[0m 3ms/step - accuracy: 0.9033 - loss: 0.2359 - val_accuracy: 0.7896 - val_loss: 0.6336\b\b\b\b\b\b\b\b\b\b\b\b\b\b\b\b\b\b\b\b\b\b\b\b\b\b\b\b\b\b\b\b\nEpoch 5/10\n\u001b[1m704/704\u001b[0m \u001b[32m━━━━━━━━━━━━━━━━━━━━\u001b[0m\u001b[37m\u001b[0m \u001b[1m2s\u001b[0m 3ms/step - accuracy: 0.9159 - loss: 0.2031 - val_accuracy: 0.7882 - val_loss: 0.6739\b\b\b\b\b\b\b\b\b\b\b\b\b\b\b\b\b\b\b\b\b\b\b\b\b\b\b\b\b\b\b\b\nEpoch 6/10\n\u001b[1m704/704\u001b[0m \u001b[32m━━━━━━━━━━━━━━━━━━━━\u001b[0m\u001b[37m\u001b[0m \u001b[1m2s\u001b[0m 3ms/step - accuracy: 0.9180 - loss: 0.1960 - val_accuracy: 0.7814 - val_loss: 0.7156\b\b\b\b\b\b\b\b\b\b\b\b\b\b\b\b\b\b\b\b\b\b\b\b\b\b\b\b\b\b\b\b\nEpoch 7/10\n\u001b[1m704/704\u001b[0m \u001b[32m━━━━━━━━━━━━━━━━━━━━\u001b[0m\u001b[37m\u001b[0m \u001b[1m2s\u001b[0m 3ms/step - accuracy: 0.9242 - loss: 0.1849 - val_accuracy: 0.7773 - val_loss: 0.7511\b\b\b\b\b\b\b\b\b\b\b\b\b\b\b\b\b\b\b\b\b\b\b\b\b\b\b\b\b\b\b\b\nEpoch 8/10\n\u001b[1m704/704\u001b[0m \u001b[32m━━━━━━━━━━━━━━━━━━━━\u001b[0m\u001b[37m\u001b[0m \u001b[1m2s\u001b[0m 3ms/step - accuracy: 0.9272 - loss: 0.1698 - val_accuracy: 0.7759 - val_loss: 0.8220\b\b\b\b\b\b\b\b\b\b\b\b\b\b\b\b\b\b\b\b\b\b\b\b\b\b\b\b\b\b\b\b\nEpoch 9/10\n\u001b[1m704/704\u001b[0m \u001b[32m━━━━━━━━━━━━━━━━━━━━\u001b[0m\u001b[37m\u001b[0m \u001b[1m2s\u001b[0m 3ms/step - accuracy: 0.9353 - loss: 0.1561 - val_accuracy: 0.7718 - val_loss: 0.8582\b\b\b\b\b\b\b\b\b\b\b\b\b\b\b\b\b\b\b\b\b\b\b\b\b\b\b\b\b\b\b\b\nEpoch 10/10\n\u001b[1m704/704\u001b[0m \u001b[32m━━━━━━━━━━━━━━━━━━━━\u001b[0m\u001b[37m\u001b[0m \u001b[1m2s\u001b[0m 3ms/step - accuracy: 0.9380 - loss: 0.1454 - val_accuracy: 0.7725 - val_loss: 0.9213\b\b\b\b\b\b\b\b\b\b\b\b\b\b\b\b\b\b\b\b\b\b\b\b\b\b\b\b\b\b\b\b\n"
        }
      ],
      "execution_count": 11,
      "metadata": {
        "colab": {
          "base_uri": "https://localhost:8080/"
        },
        "id": "iACWKVmA_3jh",
        "outputId": "6c8fdf86-81a2-4ecd-93db-33a9315aa2d9",
        "execution": {
          "iopub.status.busy": "2024-01-27T16:23:03.050900Z",
          "iopub.execute_input": "2024-01-27T16:23:03.051317Z",
          "iopub.status.idle": "2024-01-27T16:24:19.053408Z",
          "shell.execute_reply.started": "2024-01-27T16:23:03.051286Z",
          "shell.execute_reply": "2024-01-27T16:24:19.052310Z"
        },
        "trusted": true,
        "gather": {
          "logged": 1720644607397
        }
      }
    },
    {
      "cell_type": "code",
      "source": [
        "# Evaluate the model\n",
        "\n",
        "predictions = model.predict(X_test)\n",
        "y_pred = predictions.argmax(axis=1)\n",
        "accuracy = accuracy_score(y_test, y_pred)\n",
        "print(f'Test Accuracy: {accuracy * 100:.2f}%')"
      ],
      "outputs": [
        {
          "output_type": "stream",
          "name": "stdout",
          "text": "\r\u001b[1m  1/220\u001b[0m \u001b[37m━━━━━━━━━━━━━━━━━━━━\u001b[0m \u001b[1m15s\u001b[0m 70ms/step\b\b\b\b\b\b\b\b\b\b\b\b\b\b\b\b\b\b\b\b\b\b\b\b\b\b\b\b\b\b\b\b\b\b\b\b\b\b\b\b\b\b\r\u001b[1m 50/220\u001b[0m \u001b[32m━━━━\u001b[0m\u001b[37m━━━━━━━━━━━━━━━━\u001b[0m \u001b[1m0s\u001b[0m 1ms/step  \b\b\b\b\b\b\b\b\b\b\b\b\b\b\b\b\b\b\b\b\b\b\b\b\b\b\b\b\b\b\b\b\b\b\b\b\b\b\b\b\r\u001b[1m102/220\u001b[0m \u001b[32m━━━━━━━━━\u001b[0m\u001b[37m━━━━━━━━━━━\u001b[0m \u001b[1m0s\u001b[0m 1ms/step\b\b\b\b\b\b\b\b\b\b\b\b\b\b\b\b\b\b\b\b\b\b\b\b\b\b\b\b\b\b\b\b\b\b\b\b\b\b\b\b\r\u001b[1m159/220\u001b[0m \u001b[32m━━━━━━━━━━━━━━\u001b[0m\u001b[37m━━━━━━\u001b[0m \u001b[1m0s\u001b[0m 963us/step\b\b\b\b\b\b\b\b\b\b\b\b\b\b\b\b\b\b\b\b\b\b\b\b\b\b\b\b\b\b\b\b\b\b\b\b\b\b\b\b\b\b\r\u001b[1m214/220\u001b[0m \u001b[32m━━━━━━━━━━━━━━━━━━━\u001b[0m\u001b[37m━\u001b[0m \u001b[1m0s\u001b[0m 953us/step\b\b\b\b\b\b\b\b\b\b\b\b\b\b\b\b\b\b\b\b\b\b\b\b\b\b\b\b\b\b\b\b\b\b\b\b\b\b\b\b\b\b\r\u001b[1m220/220\u001b[0m \u001b[32m━━━━━━━━━━━━━━━━━━━━\u001b[0m\u001b[37m\u001b[0m \u001b[1m0s\u001b[0m 1ms/step  \nTest Accuracy: 76.94%\n"
        }
      ],
      "execution_count": 12,
      "metadata": {
        "colab": {
          "base_uri": "https://localhost:8080/"
        },
        "id": "FfCD_R8MAg_G",
        "outputId": "28558f0f-e92d-49bd-ec06-9eb4216f66e4",
        "execution": {
          "iopub.status.busy": "2024-01-27T16:27:22.053508Z",
          "iopub.execute_input": "2024-01-27T16:27:22.053981Z",
          "iopub.status.idle": "2024-01-27T16:27:22.530385Z",
          "shell.execute_reply.started": "2024-01-27T16:27:22.053944Z",
          "shell.execute_reply": "2024-01-27T16:27:22.529092Z"
        },
        "trusted": true,
        "gather": {
          "logged": 1720644607789
        }
      }
    },
    {
      "cell_type": "markdown",
      "source": [
        "Suggestions on accuracy?"
      ],
      "metadata": {
        "nteract": {
          "transient": {
            "deleting": false
          }
        }
      }
    }
  ],
  "metadata": {
    "colab": {
      "provenance": []
    },
    "kernelspec": {
      "name": "python38-azureml",
      "language": "python",
      "display_name": "Python 3.8 - AzureML"
    },
    "language_info": {
      "name": "python",
      "version": "3.9.19",
      "mimetype": "text/x-python",
      "codemirror_mode": {
        "name": "ipython",
        "version": 3
      },
      "pygments_lexer": "ipython3",
      "nbconvert_exporter": "python",
      "file_extension": ".py"
    },
    "kaggle": {
      "accelerator": "none",
      "dataSources": [
        {
          "sourceId": 1929264,
          "sourceType": "datasetVersion",
          "datasetId": 1150837
        }
      ],
      "isInternetEnabled": true,
      "language": "python",
      "sourceType": "notebook",
      "isGpuEnabled": false
    },
    "microsoft": {
      "ms_spell_check": {
        "ms_spell_check_language": "en"
      },
      "host": {
        "AzureML": {
          "notebookHasBeenCompleted": true
        }
      }
    },
    "kernel_info": {
      "name": "python38-azureml"
    },
    "nteract": {
      "version": "nteract-front-end@1.0.0"
    }
  },
  "nbformat": 4,
  "nbformat_minor": 4
}