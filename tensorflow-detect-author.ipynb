{
  "cells": [
    {
      "cell_type": "markdown",
      "source": [
        "#### Machine Learning Project: Train Model to predict the author of a phrase\n",
        "#### Marc McAllister\n",
        "#### 2024\n",
        "\n",
        "###### Suggestions are welcome. Thank you."
      ],
      "metadata": {
        "nteract": {
          "transient": {
            "deleting": false
          }
        }
      }
    },
    {
      "cell_type": "code",
      "source": [
        "!pip install tensorflow pandas scikit-learn\n",
        "!pip install tensorflow\n",
        "!pip install pandas\n",
        "!pip install scikit-learn\n",
        "!pip install nltk\n",
        "#nltk.download('stopwords')"
      ],
      "outputs": [
        {
          "output_type": "stream",
          "name": "stdout",
          "text": ""
        }
      ],
      "execution_count": 1,
      "metadata": {
        "id": "CqkAWQVP3Lqq",
        "trusted": true,
        "gather": {
          "logged": 1720644574477
        }
      }
    },
    {
      "cell_type": "code",
      "source": [
        "import tensorflow as tf\n",
        "from tensorflow.keras import layers, models\n",
        "import pandas as pd\n",
        "import numpy as np\n",
        "from sklearn.model_selection import train_test_split\n",
        "from sklearn.feature_extraction.text import CountVectorizer\n",
        "from sklearn.preprocessing import LabelEncoder\n",
        "from sklearn.metrics import accuracy_score\n",
        "from scipy.sparse import csr_matrix\n",
        "\n",
        "import seaborn as sns                       #visualisation\n",
        "import matplotlib.pyplot as plt             #visualisation\n",
        "import pickle\n",
        "\n",
        "import pathlib\n",
        "import os\n",
        "\n",
        "from nltk.corpus import stopwords"
      ],
      "outputs": [
        {
          "output_type": "stream",
          "name": "stderr",
          "text": ""
        }
      ],
      "execution_count": 2,
      "metadata": {
        "id": "ZA47UzCtsY9B",
        "execution": {
          "iopub.status.busy": "2024-01-27T16:20:18.432246Z",
          "iopub.execute_input": "2024-01-27T16:20:18.432685Z",
          "iopub.status.idle": "2024-01-27T16:20:34.000604Z",
          "shell.execute_reply.started": "2024-01-27T16:20:18.432650Z",
          "shell.execute_reply": "2024-01-27T16:20:33.999374Z"
        },
        "trusted": true,
        "gather": {
          "logged": 1720644576686
        }
      }
    },
    {
      "cell_type": "code",
      "source": [
        "folderpath = \"sources\"\n",
        "\n",
        "filenames = list()\n",
        "\n",
        "for name in os.listdir(folderpath):\n",
        "    if name.endswith('txt'):\n",
        "        filenames.append(name)\n",
        "        \n",
        "#filenames"
      ],
      "outputs": [],
      "execution_count": 3,
      "metadata": {
        "jupyter": {
          "source_hidden": false,
          "outputs_hidden": false
        },
        "nteract": {
          "transient": {
            "deleting": false
          }
        },
        "gather": {
          "logged": 1720644576979
        }
      }
    },
    {
      "cell_type": "code",
      "source": [
        "# Get and Process Data \n",
        "\n",
        "titles = []\n",
        "\n",
        "df = pd.DataFrame(columns=['Author','Text'])\n",
        "\n",
        "for fname in filenames:\n",
        "    samplefilepath = 'sources/' + fname\n",
        "    sampletext = pathlib.Path(samplefilepath).read_text()\n",
        "\n",
        "    title = sampletext.split('\\n')[0]\n",
        "    authorname = sampletext.split('\\n')[1]\n",
        "\n",
        "    sampletext = sampletext.replace(\"\\n\", \" \")\n",
        "    sampletext_sentences = sampletext.split(\".\")\n",
        "\n",
        "    titles.append(title)\n",
        "\n",
        "    i = len(sampletext_sentences)\n",
        "\n",
        "    data = {'Author': [authorname]*i,\n",
        "        'Text': sampletext_sentences}\n",
        "\n",
        "    dfsub = pd.DataFrame(data, columns=['Author','Text'])\n",
        "    df = pd.concat([df, dfsub])\n",
        "\n",
        "#titles\n",
        "#df"
      ],
      "outputs": [],
      "execution_count": 4,
      "metadata": {
        "jupyter": {
          "source_hidden": false,
          "outputs_hidden": false
        },
        "nteract": {
          "transient": {
            "deleting": false
          }
        },
        "gather": {
          "logged": 1720644577231
        }
      }
    },
    {
      "cell_type": "code",
      "source": [
        "# Start building Model\n",
        "\n",
        "train_texts, test_texts, train_labels, test_labels = train_test_split(df['Text'], df['Author'], test_size=0.2, random_state=42)"
      ],
      "outputs": [],
      "execution_count": 5,
      "metadata": {
        "id": "wKtLCdqH1MfO",
        "execution": {
          "iopub.status.busy": "2024-01-27T16:22:40.352415Z",
          "iopub.execute_input": "2024-01-27T16:22:40.353667Z",
          "iopub.status.idle": "2024-01-27T16:22:40.363053Z",
          "shell.execute_reply.started": "2024-01-27T16:22:40.353614Z",
          "shell.execute_reply": "2024-01-27T16:22:40.361920Z"
        },
        "trusted": true,
        "gather": {
          "logged": 1720644577537
        }
      }
    },
    {
      "cell_type": "code",
      "source": [
        "# Tokenize and vectorize text data\n",
        "\n",
        "vectorizer = CountVectorizer(stop_words='english')\n",
        "X_train = vectorizer.fit_transform(train_texts)\n",
        "X_test = vectorizer.transform(test_texts)"
      ],
      "outputs": [],
      "execution_count": 6,
      "metadata": {
        "id": "smx6lbID_cKz",
        "execution": {
          "iopub.status.busy": "2024-01-27T16:22:43.981283Z",
          "iopub.execute_input": "2024-01-27T16:22:43.981911Z",
          "iopub.status.idle": "2024-01-27T16:22:44.456017Z",
          "shell.execute_reply.started": "2024-01-27T16:22:43.981880Z",
          "shell.execute_reply": "2024-01-27T16:22:44.454932Z"
        },
        "trusted": true,
        "gather": {
          "logged": 1720644577802
        }
      }
    },
    {
      "cell_type": "code",
      "source": [
        "# Encode the labels\n",
        "\n",
        "label_encoder = LabelEncoder()\n",
        "y_train = label_encoder.fit_transform(train_labels)\n",
        "y_test = label_encoder.transform(test_labels)\n",
        "\n",
        "y_test"
      ],
      "outputs": [
        {
          "output_type": "execute_result",
          "execution_count": 7,
          "data": {
            "text/plain": "array([1, 2, 3, ..., 3, 2, 1])"
          },
          "metadata": {}
        }
      ],
      "execution_count": 7,
      "metadata": {
        "id": "MBe37DLY_vJJ",
        "execution": {
          "iopub.status.busy": "2024-01-27T16:22:47.319703Z",
          "iopub.execute_input": "2024-01-27T16:22:47.320149Z",
          "iopub.status.idle": "2024-01-27T16:22:47.329241Z",
          "shell.execute_reply.started": "2024-01-27T16:22:47.320117Z",
          "shell.execute_reply": "2024-01-27T16:22:47.328350Z"
        },
        "trusted": true,
        "gather": {
          "logged": 1720644578105
        }
      }
    },
    {
      "cell_type": "code",
      "source": [
        "# Build the model\n",
        "\n",
        "model = models.Sequential([\n",
        "    layers.Dense(64, activation='relu', input_shape=(X_train.shape[1],)),\n",
        "    layers.Dense(32, activation='relu'),\n",
        "    layers.Dense(len(label_encoder.classes_), activation='softmax')\n",
        "])\n",
        "\n",
        "model.compile(optimizer='adam', loss='sparse_categorical_crossentropy', metrics=['accuracy'])"
      ],
      "outputs": [
        {
          "output_type": "stream",
          "name": "stderr",
          "text": "/anaconda/envs/azureml_py38/lib/python3.9/site-packages/keras/src/layers/core/dense.py:87: UserWarning: Do not pass an `input_shape`/`input_dim` argument to a layer. When using Sequential models, prefer using an `Input(shape)` object as the first layer in the model instead.\n  super().__init__(activity_regularizer=activity_regularizer, **kwargs)\n2024-07-10 20:49:40.649653: E external/local_xla/xla/stream_executor/cuda/cuda_driver.cc:282] failed call to cuInit: CUDA_ERROR_NO_DEVICE: no CUDA-capable device is detected\n"
        }
      ],
      "execution_count": 8,
      "metadata": {
        "id": "O6jNBPIJ_yqc",
        "execution": {
          "iopub.status.busy": "2024-01-27T16:22:50.000518Z",
          "iopub.execute_input": "2024-01-27T16:22:50.000941Z",
          "iopub.status.idle": "2024-01-27T16:22:50.234616Z",
          "shell.execute_reply.started": "2024-01-27T16:22:50.000910Z",
          "shell.execute_reply": "2024-01-27T16:22:50.233640Z"
        },
        "trusted": true,
        "gather": {
          "logged": 1720644580940
        }
      }
    },
    {
      "cell_type": "code",
      "source": [
        "X_train, X_val, y_train, y_val = train_test_split(X_train, y_train, test_size=0.2, random_state=42)"
      ],
      "outputs": [],
      "execution_count": 9,
      "metadata": {
        "id": "GhCcMjW1A7Of",
        "execution": {
          "iopub.status.busy": "2024-01-27T16:22:53.060811Z",
          "iopub.execute_input": "2024-01-27T16:22:53.061285Z",
          "iopub.status.idle": "2024-01-27T16:22:53.072771Z",
          "shell.execute_reply.started": "2024-01-27T16:22:53.061250Z",
          "shell.execute_reply": "2024-01-27T16:22:53.071607Z"
        },
        "trusted": true,
        "gather": {
          "logged": 1720644582169
        }
      }
    },
    {
      "cell_type": "code",
      "source": [
        "# Convert sparse matrices\n",
        "\n",
        "X_train_sparse = tf.convert_to_tensor(csr_matrix(X_train).todense(), dtype=tf.float32)\n",
        "X_val_sparse = tf.convert_to_tensor(csr_matrix(X_val).todense(), dtype=tf.float32)\n",
        "X_test_sparse = tf.convert_to_tensor(csr_matrix(X_test).todense(), dtype=tf.float32)"
      ],
      "outputs": [],
      "execution_count": 10,
      "metadata": {
        "id": "7kDXotUGBOUN",
        "execution": {
          "iopub.status.busy": "2024-01-27T16:22:55.535092Z",
          "iopub.execute_input": "2024-01-27T16:22:55.535584Z",
          "iopub.status.idle": "2024-01-27T16:23:00.484501Z",
          "shell.execute_reply.started": "2024-01-27T16:22:55.535542Z",
          "shell.execute_reply": "2024-01-27T16:23:00.483522Z"
        },
        "trusted": true,
        "gather": {
          "logged": 1720644582697
        }
      }
    },
    {
      "cell_type": "code",
      "source": [
        "# Train the Model\n",
        "\n",
        "history = model.fit(X_train_sparse, y_train, epochs=10, batch_size=32, validation_data=(X_val_sparse, y_val))"
      ],
      "outputs": [
        {
          "output_type": "stream",
          "name": "stdout",
          "text": "Epoch 1/10\n\u001b[1m704/704\u001b[0m \u001b[32m━━━━━━━━━━━━━━━━━━━━\u001b[0m\u001b[37m\u001b[0m \u001b[1m3s\u001b[0m 4ms/step - accuracy: 0.6369 - loss: 0.9114 - val_accuracy: 0.7956 - val_loss: 0.5328\b\b\b\b\b\b\b\b\b\b\b\b\b\b\b\b\b\b\b\b\b\b\b\b\b\b\b\b\b\b\b\b\nEpoch 2/10\n\u001b[1m704/704\u001b[0m \u001b[32m━━━━━━━━━━━━━━━━━━━━\u001b[0m\u001b[37m\u001b[0m \u001b[1m2s\u001b[0m 3ms/step - accuracy: 0.8612 - loss: 0.3629 - val_accuracy: 0.7953 - val_loss: 0.5522\b\b\b\b\b\b\b\b\b\b\b\b\b\b\b\b\b\b\b\b\b\b\b\b\b\b\b\b\b\b\b\b\nEpoch 3/10\n\u001b[1m704/704\u001b[0m \u001b[32m━━━━━━━━━━━━━━━━━━━━\u001b[0m\u001b[37m\u001b[0m \u001b[1m2s\u001b[0m 3ms/step - accuracy: 0.8954 - loss: 0.2656 - val_accuracy: 0.7896 - val_loss: 0.5868\b\b\b\b\b\b\b\b\b\b\b\b\b\b\b\b\b\b\b\b\b\b\b\b\b\b\b\b\b\b\b\b\nEpoch 4/10\n\u001b[1m704/704\u001b[0m \u001b[32m━━━━━━━━━━━━━━━━━━━━\u001b[0m\u001b[37m\u001b[0m \u001b[1m2s\u001b[0m 3ms/step - accuracy: 0.9033 - loss: 0.2359 - val_accuracy: 0.7896 - val_loss: 0.6336\b\b\b\b\b\b\b\b\b\b\b\b\b\b\b\b\b\b\b\b\b\b\b\b\b\b\b\b\b\b\b\b\nEpoch 5/10\n\u001b[1m704/704\u001b[0m \u001b[32m━━━━━━━━━━━━━━━━━━━━\u001b[0m\u001b[37m\u001b[0m \u001b[1m2s\u001b[0m 3ms/step - accuracy: 0.9159 - loss: 0.2031 - val_accuracy: 0.7882 - val_loss: 0.6739\b\b\b\b\b\b\b\b\b\b\b\b\b\b\b\b\b\b\b\b\b\b\b\b\b\b\b\b\b\b\b\b\nEpoch 6/10\n\u001b[1m704/704\u001b[0m \u001b[32m━━━━━━━━━━━━━━━━━━━━\u001b[0m\u001b[37m\u001b[0m \u001b[1m2s\u001b[0m 3ms/step - accuracy: 0.9180 - loss: 0.1960 - val_accuracy: 0.7814 - val_loss: 0.7156\b\b\b\b\b\b\b\b\b\b\b\b\b\b\b\b\b\b\b\b\b\b\b\b\b\b\b\b\b\b\b\b\nEpoch 7/10\n\u001b[1m704/704\u001b[0m \u001b[32m━━━━━━━━━━━━━━━━━━━━\u001b[0m\u001b[37m\u001b[0m \u001b[1m2s\u001b[0m 3ms/step - accuracy: 0.9242 - loss: 0.1849 - val_accuracy: 0.7773 - val_loss: 0.7511\b\b\b\b\b\b\b\b\b\b\b\b\b\b\b\b\b\b\b\b\b\b\b\b\b\b\b\b\b\b\b\b\nEpoch 8/10\n\u001b[1m704/704\u001b[0m \u001b[32m━━━━━━━━━━━━━━━━━━━━\u001b[0m\u001b[37m\u001b[0m \u001b[1m2s\u001b[0m 3ms/step - accuracy: 0.9272 - loss: 0.1698 - val_accuracy: 0.7759 - val_loss: 0.8220\b\b\b\b\b\b\b\b\b\b\b\b\b\b\b\b\b\b\b\b\b\b\b\b\b\b\b\b\b\b\b\b\nEpoch 9/10\n\u001b[1m704/704\u001b[0m \u001b[32m━━━━━━━━━━━━━━━━━━━━\u001b[0m\u001b[37m\u001b[0m \u001b[1m2s\u001b[0m 3ms/step - accuracy: 0.9353 - loss: 0.1561 - val_accuracy: 0.7718 - val_loss: 0.8582\b\b\b\b\b\b\b\b\b\b\b\b\b\b\b\b\b\b\b\b\b\b\b\b\b\b\b\b\b\b\b\b\nEpoch 10/10\n\u001b[1m704/704\u001b[0m \u001b[32m━━━━━━━━━━━━━━━━━━━━\u001b[0m\u001b[37m\u001b[0m \u001b[1m2s\u001b[0m 3ms/step - accuracy: 0.9380 - loss: 0.1454 - val_accuracy: 0.7725 - val_loss: 0.9213\b\b\b\b\b\b\b\b\b\b\b\b\b\b\b\b\b\b\b\b\b\b\b\b\b\b\b\b\b\b\b\b\n"
        }
      ],
      "execution_count": 11,
      "metadata": {
        "colab": {
          "base_uri": "https://localhost:8080/"
        },
        "id": "iACWKVmA_3jh",
        "outputId": "6c8fdf86-81a2-4ecd-93db-33a9315aa2d9",
        "execution": {
          "iopub.status.busy": "2024-01-27T16:23:03.050900Z",
          "iopub.execute_input": "2024-01-27T16:23:03.051317Z",
          "iopub.status.idle": "2024-01-27T16:24:19.053408Z",
          "shell.execute_reply.started": "2024-01-27T16:23:03.051286Z",
          "shell.execute_reply": "2024-01-27T16:24:19.052310Z"
        },
        "trusted": true,
        "gather": {
          "logged": 1720644607397
        }
      }
    },
    {
      "cell_type": "code",
      "source": [
        "# Evaluate the model\n",
        "\n",
        "predictions = model.predict(X_test)\n",
        "y_pred = predictions.argmax(axis=1)\n",
        "accuracy = accuracy_score(y_test, y_pred)\n",
        "print(f'Test Accuracy: {accuracy * 100:.2f}%')"
      ],
      "outputs": [
        {
          "output_type": "stream",
          "name": "stdout",
          "text": "\r\u001b[1m  1/220\u001b[0m \u001b[37m━━━━━━━━━━━━━━━━━━━━\u001b[0m \u001b[1m15s\u001b[0m 70ms/step\b\b\b\b\b\b\b\b\b\b\b\b\b\b\b\b\b\b\b\b\b\b\b\b\b\b\b\b\b\b\b\b\b\b\b\b\b\b\b\b\b\b\r\u001b[1m 50/220\u001b[0m \u001b[32m━━━━\u001b[0m\u001b[37m━━━━━━━━━━━━━━━━\u001b[0m \u001b[1m0s\u001b[0m 1ms/step  \b\b\b\b\b\b\b\b\b\b\b\b\b\b\b\b\b\b\b\b\b\b\b\b\b\b\b\b\b\b\b\b\b\b\b\b\b\b\b\b\r\u001b[1m102/220\u001b[0m \u001b[32m━━━━━━━━━\u001b[0m\u001b[37m━━━━━━━━━━━\u001b[0m \u001b[1m0s\u001b[0m 1ms/step\b\b\b\b\b\b\b\b\b\b\b\b\b\b\b\b\b\b\b\b\b\b\b\b\b\b\b\b\b\b\b\b\b\b\b\b\b\b\b\b\r\u001b[1m159/220\u001b[0m \u001b[32m━━━━━━━━━━━━━━\u001b[0m\u001b[37m━━━━━━\u001b[0m \u001b[1m0s\u001b[0m 963us/step\b\b\b\b\b\b\b\b\b\b\b\b\b\b\b\b\b\b\b\b\b\b\b\b\b\b\b\b\b\b\b\b\b\b\b\b\b\b\b\b\b\b\r\u001b[1m214/220\u001b[0m \u001b[32m━━━━━━━━━━━━━━━━━━━\u001b[0m\u001b[37m━\u001b[0m \u001b[1m0s\u001b[0m 953us/step\b\b\b\b\b\b\b\b\b\b\b\b\b\b\b\b\b\b\b\b\b\b\b\b\b\b\b\b\b\b\b\b\b\b\b\b\b\b\b\b\b\b\r\u001b[1m220/220\u001b[0m \u001b[32m━━━━━━━━━━━━━━━━━━━━\u001b[0m\u001b[37m\u001b[0m \u001b[1m0s\u001b[0m 1ms/step  \nTest Accuracy: 76.94%\n"
        }
      ],
      "execution_count": 12,
      "metadata": {
        "colab": {
          "base_uri": "https://localhost:8080/"
        },
        "id": "FfCD_R8MAg_G",
        "outputId": "28558f0f-e92d-49bd-ec06-9eb4216f66e4",
        "execution": {
          "iopub.status.busy": "2024-01-27T16:27:22.053508Z",
          "iopub.execute_input": "2024-01-27T16:27:22.053981Z",
          "iopub.status.idle": "2024-01-27T16:27:22.530385Z",
          "shell.execute_reply.started": "2024-01-27T16:27:22.053944Z",
          "shell.execute_reply": "2024-01-27T16:27:22.529092Z"
        },
        "trusted": true,
        "gather": {
          "logged": 1720644607789
        }
      }
    },
    {
      "cell_type": "markdown",
      "source": [
        "Suggestions on accuracy?"
      ],
      "metadata": {
        "nteract": {
          "transient": {
            "deleting": false
          }
        }
      }
    }
  ],
  "metadata": {
    "colab": {
      "provenance": []
    },
    "kernelspec": {
      "name": "python38-azureml",
      "language": "python",
      "display_name": "Python 3.8 - AzureML"
    },
    "language_info": {
      "name": "python",
      "version": "3.9.19",
      "mimetype": "text/x-python",
      "codemirror_mode": {
        "name": "ipython",
        "version": 3
      },
      "pygments_lexer": "ipython3",
      "nbconvert_exporter": "python",
      "file_extension": ".py"
    },
    "kaggle": {
      "accelerator": "none",
      "dataSources": [
        {
          "sourceId": 1929264,
          "sourceType": "datasetVersion",
          "datasetId": 1150837
        }
      ],
      "isInternetEnabled": true,
      "language": "python",
      "sourceType": "notebook",
      "isGpuEnabled": false
    },
    "microsoft": {
      "ms_spell_check": {
        "ms_spell_check_language": "en"
      },
      "host": {
        "AzureML": {
          "notebookHasBeenCompleted": true
        }
      }
    },
    "kernel_info": {
      "name": "python38-azureml"
    },
    "nteract": {
      "version": "nteract-front-end@1.0.0"
    }
  },
  "nbformat": 4,
  "nbformat_minor": 4
}
