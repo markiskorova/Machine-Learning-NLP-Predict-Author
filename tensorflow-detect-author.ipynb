{
  "cells": [
    {
      "cell_type": "markdown",
      "source": [
        "#### Machine Learning Project: Train Model to predict the author of a phrase\n",
        "#### Marc McAllister\n",
        "#### 2024\n",
        "\n",
        "###### Suggestions are welcome. Thank you."
      ],
      "metadata": {
        "nteract": {
          "transient": {
            "deleting": false
          }
        }
      }
    },
    {
      "cell_type": "code",
      "source": [
        "!pip install tensorflow pandas scikit-learn\n",
        "!pip install tensorflow\n",
        "!pip install pandas\n",
        "!pip install scikit-learn\n",
        "!pip install nltk\n",
        "#nltk.download('stopwords')"
      ],
      "outputs": [],
      "execution_count": null,
      "metadata": {
        "id": "CqkAWQVP3Lqq",
        "trusted": true,
        "gather": {
          "logged": 1720644574477
        }
      }
    },
    {
      "cell_type": "code",
      "source": [
        "import tensorflow as tf\n",
        "from tensorflow.keras import layers, models\n",
        "import pandas as pd\n",
        "import numpy as np\n",
        "from sklearn.model_selection import train_test_split\n",
        "from sklearn.feature_extraction.text import CountVectorizer\n",
        "from sklearn.preprocessing import LabelEncoder\n",
        "from sklearn.metrics import accuracy_score\n",
        "from scipy.sparse import csr_matrix\n",
        "\n",
        "import seaborn as sns                       #visualisation\n",
        "import matplotlib.pyplot as plt             #visualisation\n",
        "import pickle\n",
        "\n",
        "import pathlib\n",
        "import os\n",
        "\n",
        "from nltk.corpus import stopwords"
      ],
      "outputs": [],
      "execution_count": null,
      "metadata": {
        "id": "ZA47UzCtsY9B",
        "execution": {
          "iopub.status.busy": "2024-01-27T16:20:18.432246Z",
          "iopub.execute_input": "2024-01-27T16:20:18.432685Z",
          "iopub.status.idle": "2024-01-27T16:20:34.000604Z",
          "shell.execute_reply.started": "2024-01-27T16:20:18.432650Z",
          "shell.execute_reply": "2024-01-27T16:20:33.999374Z"
        },
        "trusted": true,
        "gather": {
          "logged": 1720644576686
        }
      }
    },
    {
      "cell_type": "code",
      "source": [
        "folderpath = \"sources\"\n",
        "\n",
        "filenames = list()\n",
        "\n",
        "for name in os.listdir(folderpath):\n",
        "    if name.endswith('txt'):\n",
        "        filenames.append(name)\n",
        "        \n",
        "#filenames"
      ],
      "outputs": [],
      "execution_count": null,
      "metadata": {
        "jupyter": {
          "source_hidden": false,
          "outputs_hidden": false
        },
        "nteract": {
          "transient": {
            "deleting": false
          }
        },
        "gather": {
          "logged": 1720644576979
        }
      }
    },
    {
      "cell_type": "code",
      "source": [
        "# Get and Process Data \n",
        "\n",
        "titles = []\n",
        "\n",
        "df = pd.DataFrame(columns=['Author','Text'])\n",
        "\n",
        "for fname in filenames:\n",
        "    samplefilepath = 'sources/' + fname\n",
        "    sampletext = pathlib.Path(samplefilepath).read_text()\n",
        "\n",
        "    title = sampletext.split('\\n')[0]\n",
        "    authorname = sampletext.split('\\n')[1]\n",
        "\n",
        "    sampletext = sampletext.replace(\"\\n\", \" \")\n",
        "    sampletext_sentences = sampletext.split(\".\")\n",
        "\n",
        "    titles.append(title)\n",
        "\n",
        "    i = len(sampletext_sentences)\n",
        "\n",
        "    data = {'Author': [authorname]*i,\n",
        "        'Text': sampletext_sentences}\n",
        "\n",
        "    dfsub = pd.DataFrame(data, columns=['Author','Text'])\n",
        "    df = pd.concat([df, dfsub])\n",
        "\n",
        "#titles\n",
        "#df"
      ],
      "outputs": [],
      "execution_count": null,
      "metadata": {
        "jupyter": {
          "source_hidden": false,
          "outputs_hidden": false
        },
        "nteract": {
          "transient": {
            "deleting": false
          }
        },
        "gather": {
          "logged": 1720644577231
        }
      }
    },
    {
      "cell_type": "code",
      "source": [
        "# Start building Model\n",
        "\n",
        "train_texts, test_texts, train_labels, test_labels = train_test_split(df['Text'], df['Author'], test_size=0.2, random_state=42)"
      ],
      "outputs": [],
      "execution_count": null,
      "metadata": {
        "id": "wKtLCdqH1MfO",
        "execution": {
          "iopub.status.busy": "2024-01-27T16:22:40.352415Z",
          "iopub.execute_input": "2024-01-27T16:22:40.353667Z",
          "iopub.status.idle": "2024-01-27T16:22:40.363053Z",
          "shell.execute_reply.started": "2024-01-27T16:22:40.353614Z",
          "shell.execute_reply": "2024-01-27T16:22:40.361920Z"
        },
        "trusted": true,
        "gather": {
          "logged": 1720644577537
        }
      }
    },
    {
      "cell_type": "code",
      "source": [
        "# Tokenize and vectorize text data\n",
        "\n",
        "vectorizer = CountVectorizer(stop_words='english')\n",
        "X_train = vectorizer.fit_transform(train_texts)\n",
        "X_test = vectorizer.transform(test_texts)"
      ],
      "outputs": [],
      "execution_count": null,
      "metadata": {
        "id": "smx6lbID_cKz",
        "execution": {
          "iopub.status.busy": "2024-01-27T16:22:43.981283Z",
          "iopub.execute_input": "2024-01-27T16:22:43.981911Z",
          "iopub.status.idle": "2024-01-27T16:22:44.456017Z",
          "shell.execute_reply.started": "2024-01-27T16:22:43.981880Z",
          "shell.execute_reply": "2024-01-27T16:22:44.454932Z"
        },
        "trusted": true,
        "gather": {
          "logged": 1720644577802
        }
      }
    },
    {
      "cell_type": "code",
      "source": [
        "# Encode the labels\n",
        "\n",
        "label_encoder = LabelEncoder()\n",
        "y_train = label_encoder.fit_transform(train_labels)\n",
        "y_test = label_encoder.transform(test_labels)\n",
        "\n",
        "y_test"
      ],
      "outputs": [],
      "execution_count": null,
      "metadata": {
        "id": "MBe37DLY_vJJ",
        "execution": {
          "iopub.status.busy": "2024-01-27T16:22:47.319703Z",
          "iopub.execute_input": "2024-01-27T16:22:47.320149Z",
          "iopub.status.idle": "2024-01-27T16:22:47.329241Z",
          "shell.execute_reply.started": "2024-01-27T16:22:47.320117Z",
          "shell.execute_reply": "2024-01-27T16:22:47.328350Z"
        },
        "trusted": true,
        "gather": {
          "logged": 1720644578105
        }
      }
    },
    {
      "cell_type": "code",
      "source": [
        "# Build the model\n",
        "\n",
        "model = models.Sequential([\n",
        "    layers.Dense(64, activation='relu', input_shape=(X_train.shape[1],)),\n",
        "    layers.Dense(32, activation='relu'),\n",
        "    layers.Dense(len(label_encoder.classes_), activation='softmax')\n",
        "])\n",
        "\n",
        "model.compile(optimizer='adam', loss='sparse_categorical_crossentropy', metrics=['accuracy'])"
      ],
      "outputs": [],
      "execution_count": null,
      "metadata": {
        "id": "O6jNBPIJ_yqc",
        "execution": {
          "iopub.status.busy": "2024-01-27T16:22:50.000518Z",
          "iopub.execute_input": "2024-01-27T16:22:50.000941Z",
          "iopub.status.idle": "2024-01-27T16:22:50.234616Z",
          "shell.execute_reply.started": "2024-01-27T16:22:50.000910Z",
          "shell.execute_reply": "2024-01-27T16:22:50.233640Z"
        },
        "trusted": true,
        "gather": {
          "logged": 1720644580940
        }
      }
    },
    {
      "cell_type": "code",
      "source": [
        "X_train, X_val, y_train, y_val = train_test_split(X_train, y_train, test_size=0.2, random_state=42)"
      ],
      "outputs": [],
      "execution_count": null,
      "metadata": {
        "id": "GhCcMjW1A7Of",
        "execution": {
          "iopub.status.busy": "2024-01-27T16:22:53.060811Z",
          "iopub.execute_input": "2024-01-27T16:22:53.061285Z",
          "iopub.status.idle": "2024-01-27T16:22:53.072771Z",
          "shell.execute_reply.started": "2024-01-27T16:22:53.061250Z",
          "shell.execute_reply": "2024-01-27T16:22:53.071607Z"
        },
        "trusted": true,
        "gather": {
          "logged": 1720644582169
        }
      }
    },
    {
      "cell_type": "code",
      "source": [
        "# Convert sparse matrices\n",
        "\n",
        "X_train_sparse = tf.convert_to_tensor(csr_matrix(X_train).todense(), dtype=tf.float32)\n",
        "X_val_sparse = tf.convert_to_tensor(csr_matrix(X_val).todense(), dtype=tf.float32)\n",
        "X_test_sparse = tf.convert_to_tensor(csr_matrix(X_test).todense(), dtype=tf.float32)"
      ],
      "outputs": [],
      "execution_count": null,
      "metadata": {
        "id": "7kDXotUGBOUN",
        "execution": {
          "iopub.status.busy": "2024-01-27T16:22:55.535092Z",
          "iopub.execute_input": "2024-01-27T16:22:55.535584Z",
          "iopub.status.idle": "2024-01-27T16:23:00.484501Z",
          "shell.execute_reply.started": "2024-01-27T16:22:55.535542Z",
          "shell.execute_reply": "2024-01-27T16:23:00.483522Z"
        },
        "trusted": true,
        "gather": {
          "logged": 1720644582697
        }
      }
    },
    {
      "cell_type": "code",
      "source": [
        "# Train the Model\n",
        "\n",
        "history = model.fit(X_train_sparse, y_train, epochs=10, batch_size=32, validation_data=(X_val_sparse, y_val))"
      ],
      "outputs": [],
      "execution_count": null,
      "metadata": {
        "colab": {
          "base_uri": "https://localhost:8080/"
        },
        "id": "iACWKVmA_3jh",
        "outputId": "6c8fdf86-81a2-4ecd-93db-33a9315aa2d9",
        "execution": {
          "iopub.status.busy": "2024-01-27T16:23:03.050900Z",
          "iopub.execute_input": "2024-01-27T16:23:03.051317Z",
          "iopub.status.idle": "2024-01-27T16:24:19.053408Z",
          "shell.execute_reply.started": "2024-01-27T16:23:03.051286Z",
          "shell.execute_reply": "2024-01-27T16:24:19.052310Z"
        },
        "trusted": true,
        "gather": {
          "logged": 1720644607397
        }
      }
    },
    {
      "cell_type": "code",
      "source": [
        "# Evaluate the model\n",
        "\n",
        "predictions = model.predict(X_test)\n",
        "y_pred = predictions.argmax(axis=1)\n",
        "accuracy = accuracy_score(y_test, y_pred)\n",
        "print(f'Test Accuracy: {accuracy * 100:.2f}%')"
      ],
      "outputs": [],
      "execution_count": null,
      "metadata": {
        "colab": {
          "base_uri": "https://localhost:8080/"
        },
        "id": "FfCD_R8MAg_G",
        "outputId": "28558f0f-e92d-49bd-ec06-9eb4216f66e4",
        "execution": {
          "iopub.status.busy": "2024-01-27T16:27:22.053508Z",
          "iopub.execute_input": "2024-01-27T16:27:22.053981Z",
          "iopub.status.idle": "2024-01-27T16:27:22.530385Z",
          "shell.execute_reply.started": "2024-01-27T16:27:22.053944Z",
          "shell.execute_reply": "2024-01-27T16:27:22.529092Z"
        },
        "trusted": true,
        "gather": {
          "logged": 1720644607789
        }
      }
    },
    {
      "cell_type": "markdown",
      "source": [
        "Suggestions on accuracy?"
      ],
      "metadata": {
        "nteract": {
          "transient": {
            "deleting": false
          }
        }
      }
    }
  ],
  "metadata": {
    "colab": {
      "provenance": []
    },
    "kernelspec": {
      "name": "python38-azureml",
      "language": "python",
      "display_name": "Python 3.8 - AzureML"
    },
    "language_info": {
      "name": "python",
      "version": "3.9.19",
      "mimetype": "text/x-python",
      "codemirror_mode": {
        "name": "ipython",
        "version": 3
      },
      "pygments_lexer": "ipython3",
      "nbconvert_exporter": "python",
      "file_extension": ".py"
    },
    "kaggle": {
      "accelerator": "none",
      "dataSources": [
        {
          "sourceId": 1929264,
          "sourceType": "datasetVersion",
          "datasetId": 1150837
        }
      ],
      "isInternetEnabled": true,
      "language": "python",
      "sourceType": "notebook",
      "isGpuEnabled": false
    },
    "microsoft": {
      "ms_spell_check": {
        "ms_spell_check_language": "en"
      },
      "host": {
        "AzureML": {
          "notebookHasBeenCompleted": true
        }
      }
    },
    "kernel_info": {
      "name": "python38-azureml"
    },
    "nteract": {
      "version": "nteract-front-end@1.0.0"
    }
  },
  "nbformat": 4,
  "nbformat_minor": 4
}