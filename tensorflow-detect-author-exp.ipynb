{
  "cells": [
    {
      "cell_type": "markdown",
      "source": [
        "#### Machine Learning Project: Train Model to predict the author of a phrase\n",
        "#### Marc McAllister\n",
        "#### 2024\n",
        "\n",
        "###### Suggestions are welcome. Thank you."
      ],
      "metadata": {
        "nteract": {
          "transient": {
            "deleting": false
          }
        }
      }
    },
    {
      "cell_type": "code",
      "source": [
        "!pip install tensorflow pandas scikit-learn\n",
        "!pip install tensorflow\n",
        "!pip install pandas\n",
        "!pip install scikit-learn\n",
        "!pip install nltk\n",
        "nltk.download('stopwords')"
      ],
      "outputs": [],
      "execution_count": null,
      "metadata": {
        "id": "CqkAWQVP3Lqq",
        "trusted": true,
        "gather": {
          "logged": 1721087988894
        },
        "editable": false,
        "run_control": {
          "frozen": true
        }
      }
    },
    {
      "cell_type": "code",
      "source": [
        "import tensorflow as tf\n",
        "from tensorflow import keras\n",
        "from keras import layers, models\n",
        "import pandas as pd\n",
        "import numpy as np\n",
        "from sklearn.model_selection import train_test_split\n",
        "from sklearn.feature_extraction.text import CountVectorizer, TfidfVectorizer, HashingVectorizer\n",
        "from sklearn.preprocessing import LabelEncoder\n",
        "from sklearn.metrics import accuracy_score\n",
        "from scipy.sparse import csr_matrix\n",
        "\n",
        "import seaborn as sns                       #visualisation\n",
        "import matplotlib.pyplot as plt             #visualisation\n",
        "import pickle\n",
        "\n",
        "from nltk.tag import pos_tag\n",
        "\n",
        "import pathlib\n",
        "import os\n",
        "\n",
        "from nltk.corpus import stopwords"
      ],
      "outputs": [],
      "execution_count": null,
      "metadata": {
        "id": "ZA47UzCtsY9B",
        "execution": {
          "iopub.status.busy": "2024-01-27T16:20:18.432246Z",
          "iopub.execute_input": "2024-01-27T16:20:18.432685Z",
          "iopub.status.idle": "2024-01-27T16:20:34.000604Z",
          "shell.execute_reply.started": "2024-01-27T16:20:18.432650Z",
          "shell.execute_reply": "2024-01-27T16:20:33.999374Z"
        },
        "trusted": true,
        "gather": {
          "logged": 1721258783596
        },
        "editable": true,
        "run_control": {
          "frozen": false
        }
      }
    },
    {
      "cell_type": "code",
      "source": [
        "os.getcwd()"
      ],
      "outputs": [],
      "execution_count": null,
      "metadata": {
        "jupyter": {
          "source_hidden": false,
          "outputs_hidden": false
        },
        "nteract": {
          "transient": {
            "deleting": false
          }
        },
        "gather": {
          "logged": 1721321648000
        }
      }
    },
    {
      "cell_type": "code",
      "source": [
        "folderpath = \"sources\"\n",
        "\n",
        "filenames = list()\n",
        "\n",
        "for name in os.listdir(folderpath):\n",
        "    if name.endswith('txt'):\n",
        "        filenames.append(name)\n",
        "        \n",
        "filenames"
      ],
      "outputs": [],
      "execution_count": null,
      "metadata": {
        "jupyter": {
          "source_hidden": false,
          "outputs_hidden": false
        },
        "nteract": {
          "transient": {
            "deleting": false
          }
        },
        "gather": {
          "logged": 1721257092819
        }
      }
    },
    {
      "cell_type": "code",
      "source": [
        "# Get and Process Data \n",
        "\n",
        "titles = []\n",
        "\n",
        "df = pd.DataFrame(columns=['Author','Text'])\n",
        "\n",
        "for fname in filenames:\n",
        "    samplefilepath = 'sources/' + fname\n",
        "    sampletext = pathlib.Path(samplefilepath).read_text()\n",
        "\n",
        "    title = sampletext.split('\\n')[0]\n",
        "    authorname = sampletext.split('\\n')[1]\n",
        "\n",
        "    sampletext = sampletext.replace(\"\\n\", \" \")\n",
        "    sampletext_sentences = sampletext.split(\".\")\n",
        "\n",
        "    titles.append(title)\n",
        "\n",
        "    i = len(sampletext_sentences)\n",
        "\n",
        "    data = {'Author': [authorname]*i,\n",
        "        'Text': sampletext_sentences}\n",
        "\n",
        "    dfsub = pd.DataFrame(data, columns=['Author','Text'])\n",
        "    #dfsub = dfsub[0:1000]      #For Small\n",
        "    df = pd.concat([df, dfsub])\n",
        "\n",
        "\n",
        "#df.to_csv('Text_Author.csv', index=False)\n"
      ],
      "outputs": [],
      "execution_count": null,
      "metadata": {
        "jupyter": {
          "source_hidden": false,
          "outputs_hidden": false
        },
        "nteract": {
          "transient": {
            "deleting": false
          }
        },
        "gather": {
          "logged": 1721257093026
        }
      }
    },
    {
      "cell_type": "code",
      "source": [
        "# Start building Model\n",
        "\n",
        "train_texts, test_texts, train_labels, test_labels = train_test_split(df['Text'], df['Author'], test_size=0.2, random_state=42)"
      ],
      "outputs": [],
      "execution_count": null,
      "metadata": {
        "id": "wKtLCdqH1MfO",
        "execution": {
          "iopub.status.busy": "2024-01-27T16:22:40.352415Z",
          "iopub.execute_input": "2024-01-27T16:22:40.353667Z",
          "iopub.status.idle": "2024-01-27T16:22:40.363053Z",
          "shell.execute_reply.started": "2024-01-27T16:22:40.353614Z",
          "shell.execute_reply": "2024-01-27T16:22:40.361920Z"
        },
        "trusted": true,
        "gather": {
          "logged": 1721257093181
        }
      }
    },
    {
      "cell_type": "code",
      "source": [
        "print(train_texts.size)\n",
        "print(test_texts.size)\n",
        "print(train_labels.size)\n",
        "print(test_labels.size)"
      ],
      "outputs": [],
      "execution_count": null,
      "metadata": {
        "jupyter": {
          "source_hidden": false,
          "outputs_hidden": false
        },
        "nteract": {
          "transient": {
            "deleting": false
          }
        },
        "gather": {
          "logged": 1721257093340
        }
      }
    },
    {
      "cell_type": "code",
      "source": [
        "train_texts[0:10]"
      ],
      "outputs": [],
      "execution_count": null,
      "metadata": {
        "jupyter": {
          "source_hidden": false,
          "outputs_hidden": false
        },
        "nteract": {
          "transient": {
            "deleting": false
          }
        },
        "gather": {
          "logged": 1721257093497
        }
      }
    },
    {
      "cell_type": "code",
      "source": [
        "train_labels[0:10]"
      ],
      "outputs": [],
      "execution_count": null,
      "metadata": {
        "jupyter": {
          "source_hidden": false,
          "outputs_hidden": false
        },
        "nteract": {
          "transient": {
            "deleting": false
          }
        },
        "gather": {
          "logged": 1721257093691
        }
      }
    },
    {
      "cell_type": "code",
      "source": [
        "# Tokenize and vectorize text data\n",
        "\n",
        "#vectorizer = CountVectorizer(ngram_range=(2,3))\n",
        "\n",
        "vectorizer = CountVectorizer()\n",
        "x_train = vectorizer.fit_transform(train_texts)\n",
        "x_test = vectorizer.transform(test_texts)\n",
        "\n",
        "\n",
        "x_train"
      ],
      "outputs": [],
      "execution_count": null,
      "metadata": {
        "id": "smx6lbID_cKz",
        "execution": {
          "iopub.status.busy": "2024-01-27T16:22:43.981283Z",
          "iopub.execute_input": "2024-01-27T16:22:43.981911Z",
          "iopub.status.idle": "2024-01-27T16:22:44.456017Z",
          "shell.execute_reply.started": "2024-01-27T16:22:43.981880Z",
          "shell.execute_reply": "2024-01-27T16:22:44.454932Z"
        },
        "trusted": true,
        "gather": {
          "logged": 1721257093930
        }
      }
    },
    {
      "cell_type": "code",
      "source": [
        "len(vectorizer.vocabulary_)\n"
      ],
      "outputs": [],
      "execution_count": null,
      "metadata": {
        "jupyter": {
          "source_hidden": false,
          "outputs_hidden": false
        },
        "nteract": {
          "transient": {
            "deleting": false
          }
        },
        "gather": {
          "logged": 1721257094166
        },
        "editable": true,
        "run_control": {
          "frozen": false
        }
      }
    },
    {
      "cell_type": "code",
      "source": [
        "# Encode the labels\n",
        "\n",
        "label_encoder = LabelEncoder()\n",
        "y_train = label_encoder.fit_transform(train_labels)\n",
        "y_test = label_encoder.transform(test_labels)\n",
        "\n",
        "#print(label_encoder)\n",
        "y_train"
      ],
      "outputs": [],
      "execution_count": null,
      "metadata": {
        "id": "MBe37DLY_vJJ",
        "execution": {
          "iopub.status.busy": "2024-01-27T16:22:47.319703Z",
          "iopub.execute_input": "2024-01-27T16:22:47.320149Z",
          "iopub.status.idle": "2024-01-27T16:22:47.329241Z",
          "shell.execute_reply.started": "2024-01-27T16:22:47.320117Z",
          "shell.execute_reply": "2024-01-27T16:22:47.328350Z"
        },
        "trusted": true,
        "gather": {
          "logged": 1721257094345
        },
        "editable": true,
        "run_control": {
          "frozen": false
        }
      }
    },
    {
      "cell_type": "code",
      "source": [
        "# Let's Build the model\n",
        "\n",
        "model = models.Sequential([\n",
        "    layers.Dense(64, activation='relu', input_shape=(x_train.shape[1],)),\n",
        "    layers.Dense(32, activation='relu'),\n",
        "    layers.Dense(len(label_encoder.classes_), activation='softmax')\n",
        "])\n",
        "\n",
        "model.compile(optimizer='adam', loss='sparse_categorical_crossentropy', metrics=['accuracy'])"
      ],
      "outputs": [],
      "execution_count": null,
      "metadata": {
        "id": "O6jNBPIJ_yqc",
        "execution": {
          "iopub.status.busy": "2024-01-27T16:22:50.000518Z",
          "iopub.execute_input": "2024-01-27T16:22:50.000941Z",
          "iopub.status.idle": "2024-01-27T16:22:50.234616Z",
          "shell.execute_reply.started": "2024-01-27T16:22:50.000910Z",
          "shell.execute_reply": "2024-01-27T16:22:50.233640Z"
        },
        "trusted": true,
        "gather": {
          "logged": 1721257097178
        }
      }
    },
    {
      "cell_type": "code",
      "source": [
        "print(x_train.shape)\n",
        "print(x_test.shape)\n",
        "print(y_train.shape)\n",
        "print(y_test.shape)"
      ],
      "outputs": [],
      "execution_count": null,
      "metadata": {
        "jupyter": {
          "source_hidden": false,
          "outputs_hidden": false
        },
        "nteract": {
          "transient": {
            "deleting": false
          }
        },
        "gather": {
          "logged": 1721257097359
        }
      }
    },
    {
      "cell_type": "code",
      "source": [
        "x_train, x_val, y_train, y_val = train_test_split(x_train, y_train, test_size=0.2, random_state=42)"
      ],
      "outputs": [],
      "execution_count": null,
      "metadata": {
        "id": "GhCcMjW1A7Of",
        "execution": {
          "iopub.status.busy": "2024-01-27T16:22:53.060811Z",
          "iopub.execute_input": "2024-01-27T16:22:53.061285Z",
          "iopub.status.idle": "2024-01-27T16:22:53.072771Z",
          "shell.execute_reply.started": "2024-01-27T16:22:53.061250Z",
          "shell.execute_reply": "2024-01-27T16:22:53.071607Z"
        },
        "trusted": true,
        "gather": {
          "logged": 1721257097501
        }
      }
    },
    {
      "cell_type": "code",
      "source": [
        "print(x_train.shape)\n",
        "print(x_test.shape)\n",
        "print(y_train.shape)\n",
        "print(y_test.shape)\n",
        "print(x_val.shape)\n",
        "print(y_val.shape)"
      ],
      "outputs": [],
      "execution_count": null,
      "metadata": {
        "jupyter": {
          "source_hidden": false,
          "outputs_hidden": false
        },
        "nteract": {
          "transient": {
            "deleting": false
          }
        },
        "gather": {
          "logged": 1721257097733
        }
      }
    },
    {
      "cell_type": "code",
      "source": [
        "# Convert sparse matrices\n",
        "\n",
        "x_train_sparse = tf.convert_to_tensor(csr_matrix(x_train).todense(), dtype=tf.float32)\n",
        "x_val_sparse = tf.convert_to_tensor(csr_matrix(x_val).todense(), dtype=tf.float32)\n",
        "x_test_sparse = tf.convert_to_tensor(csr_matrix(x_test).todense(), dtype=tf.float32)"
      ],
      "outputs": [],
      "execution_count": null,
      "metadata": {
        "id": "7kDXotUGBOUN",
        "execution": {
          "iopub.status.busy": "2024-01-27T16:22:55.535092Z",
          "iopub.execute_input": "2024-01-27T16:22:55.535584Z",
          "iopub.status.idle": "2024-01-27T16:23:00.484501Z",
          "shell.execute_reply.started": "2024-01-27T16:22:55.535542Z",
          "shell.execute_reply": "2024-01-27T16:23:00.483522Z"
        },
        "trusted": true,
        "gather": {
          "logged": 1721257098885
        }
      }
    },
    {
      "cell_type": "code",
      "source": [
        "print(x_train_sparse.shape)\n",
        "print(x_val_sparse.shape)\n",
        "print(x_test_sparse.shape)"
      ],
      "outputs": [],
      "execution_count": null,
      "metadata": {
        "jupyter": {
          "source_hidden": false,
          "outputs_hidden": false
        },
        "nteract": {
          "transient": {
            "deleting": false
          }
        },
        "gather": {
          "logged": 1721257099045
        }
      }
    },
    {
      "cell_type": "code",
      "source": [
        "# Train the Model\n",
        "\n",
        "history = model.fit(x_train_sparse, y_train, epochs=10, batch_size=32, validation_data=(x_val_sparse, y_val))"
      ],
      "outputs": [],
      "execution_count": null,
      "metadata": {
        "colab": {
          "base_uri": "https://localhost:8080/"
        },
        "id": "iACWKVmA_3jh",
        "outputId": "6c8fdf86-81a2-4ecd-93db-33a9315aa2d9",
        "execution": {
          "iopub.status.busy": "2024-01-27T16:23:03.050900Z",
          "iopub.execute_input": "2024-01-27T16:23:03.051317Z",
          "iopub.status.idle": "2024-01-27T16:24:19.053408Z",
          "shell.execute_reply.started": "2024-01-27T16:23:03.051286Z",
          "shell.execute_reply": "2024-01-27T16:24:19.052310Z"
        },
        "trusted": true,
        "gather": {
          "logged": 1721257131409
        }
      }
    },
    {
      "cell_type": "code",
      "source": [
        "print(history)"
      ],
      "outputs": [],
      "execution_count": null,
      "metadata": {
        "jupyter": {
          "source_hidden": false,
          "outputs_hidden": false
        },
        "nteract": {
          "transient": {
            "deleting": false
          }
        },
        "gather": {
          "logged": 1721257131527
        }
      }
    },
    {
      "cell_type": "code",
      "source": [
        "# Evaluate the model\n",
        "\n",
        "predictions = model.predict(x_test)\n",
        "y_pred = predictions.argmax(axis=1)\n",
        "accuracy = accuracy_score(y_test, y_pred)\n",
        "print(f'Test Accuracy: {accuracy * 100:.2f}%')"
      ],
      "outputs": [],
      "execution_count": null,
      "metadata": {
        "colab": {
          "base_uri": "https://localhost:8080/"
        },
        "id": "FfCD_R8MAg_G",
        "outputId": "28558f0f-e92d-49bd-ec06-9eb4216f66e4",
        "execution": {
          "iopub.status.busy": "2024-01-27T16:27:22.053508Z",
          "iopub.execute_input": "2024-01-27T16:27:22.053981Z",
          "iopub.status.idle": "2024-01-27T16:27:22.530385Z",
          "shell.execute_reply.started": "2024-01-27T16:27:22.053944Z",
          "shell.execute_reply": "2024-01-27T16:27:22.529092Z"
        },
        "trusted": true,
        "gather": {
          "logged": 1721257131925
        }
      }
    },
    {
      "cell_type": "code",
      "source": [
        "#model.save('tensorflow_detection_model.keras')\n",
        "\n",
        "keras.saving.save_model(model, 'tensorflow_detection_model.keras', overwrite=True)\n"
      ],
      "outputs": [],
      "execution_count": null,
      "metadata": {
        "jupyter": {
          "source_hidden": false,
          "outputs_hidden": false
        },
        "nteract": {
          "transient": {
            "deleting": false
          }
        },
        "gather": {
          "logged": 1721257358539
        }
      }
    },
    {
      "cell_type": "code",
      "source": [
        "label_encoder.classes_"
      ],
      "outputs": [],
      "execution_count": null,
      "metadata": {
        "jupyter": {
          "source_hidden": false,
          "outputs_hidden": false
        },
        "nteract": {
          "transient": {
            "deleting": false
          }
        },
        "gather": {
          "logged": 1721257132338
        }
      }
    },
    {
      "cell_type": "code",
      "source": [
        "test_text = 'into the past'\n",
        "\n",
        "print(test_text)\n",
        "\n",
        "tvector = vectorizer.transform([test_text])\n",
        "tsparse = tf.convert_to_tensor(tvector.todense(), dtype=tf.float32)\n",
        "pred = model.predict(tsparse)\n",
        "\n",
        "print(pred)\n",
        "print(np.argmax(pred))\n",
        "\n",
        "pred_label_index = np.argmax(pred)\n",
        "pred_label = label_encoder.classes_[pred_label_index]\n",
        "\n",
        "print(pred_label)"
      ],
      "outputs": [],
      "execution_count": null,
      "metadata": {
        "jupyter": {
          "source_hidden": false,
          "outputs_hidden": false
        },
        "nteract": {
          "transient": {
            "deleting": false
          }
        },
        "gather": {
          "logged": 1721257132462
        }
      }
    },
    {
      "cell_type": "markdown",
      "source": [
        "Suggestions on accuracy?"
      ],
      "metadata": {
        "nteract": {
          "transient": {
            "deleting": false
          }
        }
      }
    }
  ],
  "metadata": {
    "colab": {
      "provenance": []
    },
    "kernelspec": {
      "name": "python38-azureml",
      "language": "python",
      "display_name": "Python 3.8 - AzureML"
    },
    "language_info": {
      "name": "python",
      "version": "3.9.19",
      "mimetype": "text/x-python",
      "codemirror_mode": {
        "name": "ipython",
        "version": 3
      },
      "pygments_lexer": "ipython3",
      "nbconvert_exporter": "python",
      "file_extension": ".py"
    },
    "kaggle": {
      "accelerator": "none",
      "dataSources": [
        {
          "sourceId": 1929264,
          "sourceType": "datasetVersion",
          "datasetId": 1150837
        }
      ],
      "isInternetEnabled": true,
      "language": "python",
      "sourceType": "notebook",
      "isGpuEnabled": false
    },
    "microsoft": {
      "ms_spell_check": {
        "ms_spell_check_language": "en"
      },
      "host": {
        "AzureML": {
          "notebookHasBeenCompleted": true
        }
      }
    },
    "kernel_info": {
      "name": "python38-azureml"
    },
    "nteract": {
      "version": "nteract-front-end@1.0.0"
    }
  },
  "nbformat": 4,
  "nbformat_minor": 4
}