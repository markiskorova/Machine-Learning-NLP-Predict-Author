{
  "cells": [
    {
      "cell_type": "markdown",
      "source": [
        "#### Machine Learning Project: Text Source Classification: Try various Neural Network models for training and prediction\n",
        "#### 2024 Marc McAllister"
      ],
      "metadata": {
        "nteract": {
          "transient": {
            "deleting": false
          }
        }
      }
    },
    {
      "cell_type": "code",
      "source": [
        "!pip install tensorflow pandas scikit-learn\n",
        "!pip install tensorflow\n",
        "!pip install pandas\n",
        "!pip install scikit-learn\n",
        "!pip install nltk\n",
        "!pip install pydot\n",
        "#nltk.download('stopwords')"
      ],
      "outputs": [],
      "execution_count": null,
      "metadata": {
        "jupyter": {
          "source_hidden": false,
          "outputs_hidden": false
        },
        "nteract": {
          "transient": {
            "deleting": false
          }
        },
        "editable": false,
        "run_control": {
          "frozen": true
        },
        "gather": {
          "logged": 1722474904044
        }
      }
    },
    {
      "cell_type": "code",
      "source": [
        "import os, pathlib\n",
        "import pandas as pd\n",
        "\n",
        "import tensorflow as tf\n",
        "from tensorflow import keras\n",
        "from keras import layers, models\n",
        "\n",
        "from sklearn.model_selection import train_test_split\n",
        "from sklearn.feature_extraction.text import CountVectorizer #, TfidfVectorizer, HashingVectorizer\n",
        "from sklearn.preprocessing import LabelEncoder\n",
        "from sklearn.metrics import accuracy_score\n",
        "\n",
        "from scipy.sparse import csr_matrix\n",
        "\n",
        "import numpy as np\n",
        "\n",
        "\n",
        "from sklearn.linear_model import LogisticRegression\n",
        "import matplotlib.pyplot as plt\n",
        "\n",
        "import string"
      ],
      "outputs": [],
      "execution_count": null,
      "metadata": {
        "jupyter": {
          "source_hidden": false,
          "outputs_hidden": false
        },
        "nteract": {
          "transient": {
            "deleting": false
          }
        },
        "gather": {
          "logged": 1722835750878
        }
      }
    },
    {
      "cell_type": "code",
      "source": [
        "# Open source path and import text files\n",
        "\n",
        "folderpath = \"sources\"\n",
        "filenames = list()\n",
        "\n",
        "for name in os.listdir(folderpath):\n",
        "    if name.endswith('txt'):\n",
        "        filenames.append(name)\n",
        "\n",
        "titles = []\n",
        "\n",
        "df = pd.DataFrame(columns=['Author','Text'])\n",
        "\n",
        "for fname in filenames:\n",
        "    samplefilepath = 'sources/' + fname\n",
        "    sampletext = pathlib.Path(samplefilepath).read_text()\n",
        "\n",
        "    title = sampletext.split('\\n')[0]\n",
        "    authorname = sampletext.split('\\n')[1]\n",
        "\n",
        "    sampletext = sampletext.replace(\"\\n\", \" \")\n",
        "    sampletext_sentences = sampletext.split(\".\")\n",
        "\n",
        "    titles.append(title)\n",
        "\n",
        "    i = len(sampletext_sentences)\n",
        "\n",
        "    data = {'Author': [authorname]*i,\n",
        "        'Text': sampletext_sentences}\n",
        "\n",
        "    dfsub = pd.DataFrame(data, columns=['Author','Text'])\n",
        "    dfsub = dfsub[0:1000]      #Reduce sample size for debugging\n",
        "    df = pd.concat([df, dfsub])\n",
        "\n",
        "# Save Data Frame\n",
        "df.to_csv('Text_Author.csv', index=False)"
      ],
      "outputs": [],
      "execution_count": null,
      "metadata": {
        "jupyter": {
          "source_hidden": false,
          "outputs_hidden": false
        },
        "nteract": {
          "transient": {
            "deleting": false
          }
        },
        "gather": {
          "logged": 1722835751289
        }
      }
    },
    {
      "cell_type": "code",
      "source": [
        "print(titles)"
      ],
      "outputs": [],
      "execution_count": null,
      "metadata": {
        "jupyter": {
          "source_hidden": false,
          "outputs_hidden": false
        },
        "nteract": {
          "transient": {
            "deleting": false
          }
        },
        "gather": {
          "logged": 1722835751414
        }
      }
    },
    {
      "cell_type": "code",
      "source": [
        "# Remove Punctuation\n",
        "#df['Text'] = df['Text'].str.replace('[^a-zA-Z ]','', regex=1)\n",
        "\n",
        "# Remove Short Sentences\n",
        "df = df[df['Text'].str.split().str.len() > 5]\n",
        "\n",
        "#df.to_csv('Text_Author_Short_Removed.csv', index=False)"
      ],
      "outputs": [],
      "execution_count": null,
      "metadata": {
        "jupyter": {
          "source_hidden": false,
          "outputs_hidden": false
        },
        "nteract": {
          "transient": {
            "deleting": false
          }
        },
        "gather": {
          "logged": 1722835751543
        }
      }
    },
    {
      "cell_type": "code",
      "source": [
        "# Training & Testing Data: Train, Test, Split\n",
        "\n",
        "train_texts, test_texts, train_labels, test_labels = train_test_split(df['Text'], df['Author'], test_size=0.3, random_state=41)"
      ],
      "outputs": [],
      "execution_count": null,
      "metadata": {
        "jupyter": {
          "source_hidden": false,
          "outputs_hidden": false
        },
        "nteract": {
          "transient": {
            "deleting": false
          }
        },
        "gather": {
          "logged": 1722835751682
        }
      }
    },
    {
      "cell_type": "code",
      "source": [
        "train_texts.shape"
      ],
      "outputs": [],
      "execution_count": null,
      "metadata": {
        "jupyter": {
          "source_hidden": false,
          "outputs_hidden": false
        },
        "nteract": {
          "transient": {
            "deleting": false
          }
        },
        "gather": {
          "logged": 1722835751822
        }
      }
    },
    {
      "cell_type": "code",
      "source": [
        "# Tokenize\n",
        "\n",
        "#vectorizer = CountVectorizer()\n",
        "#X_train = vectorizer.fit_transform(train_texts)\n",
        "#X_test = vectorizer.transform(test_texts)\n",
        "\n",
        "#vocab_size = len(vectorizer.vocabulary_)"
      ],
      "outputs": [],
      "execution_count": null,
      "metadata": {
        "jupyter": {
          "source_hidden": false,
          "outputs_hidden": false
        },
        "nteract": {
          "transient": {
            "deleting": false
          }
        },
        "gather": {
          "logged": 1722835751971
        },
        "editable": true,
        "run_control": {
          "frozen": false
        }
      }
    },
    {
      "cell_type": "code",
      "source": [
        "# Lets try the Keras Preprocessing Tokenizer instead\n",
        "\n",
        "tokenizer = keras.preprocessing.text.Tokenizer(\n",
        "    num_words=5000,\n",
        "    filters='!\"#$%&()*+,-./:;<=>?@[\\\\]^_`{|}~\\t\\n',\n",
        ")\n",
        "tokenizer.fit_on_texts(train_texts)\n",
        "\n",
        "word_index=tokenizer.word_index\n",
        "\n",
        "X_train = tokenizer.texts_to_sequences(train_texts)\n",
        "X_test = tokenizer.texts_to_sequences(test_texts)\n",
        "\n",
        "X_train = keras.preprocessing.sequence.pad_sequences(X_train, maxlen=40)\n",
        "X_test = keras.preprocessing.sequence.pad_sequences(X_test, maxlen=40)\n",
        "\n",
        "vocab_size = len(tokenizer.word_index) + 1\n",
        "\n",
        "print(vocab_size)\n",
        "print(X_train.shape)"
      ],
      "outputs": [],
      "execution_count": null,
      "metadata": {
        "jupyter": {
          "source_hidden": false,
          "outputs_hidden": false
        },
        "nteract": {
          "transient": {
            "deleting": false
          }
        },
        "editable": true,
        "run_control": {
          "frozen": false
        },
        "gather": {
          "logged": 1722835752118
        }
      }
    },
    {
      "cell_type": "code",
      "source": [
        "# Encode the labels\n",
        "\n",
        "label_encoder = LabelEncoder()\n",
        "y_train = label_encoder.fit_transform(train_labels)\n",
        "y_test = label_encoder.transform(test_labels)"
      ],
      "outputs": [],
      "execution_count": null,
      "metadata": {
        "jupyter": {
          "source_hidden": false,
          "outputs_hidden": false
        },
        "nteract": {
          "transient": {
            "deleting": false
          }
        },
        "gather": {
          "logged": 1722835752247
        }
      }
    },
    {
      "cell_type": "code",
      "source": [
        "print(X_train.shape)\n",
        "print(y_train.shape)\n",
        "print(X_test.shape)\n",
        "print(y_test.shape)"
      ],
      "outputs": [],
      "execution_count": null,
      "metadata": {
        "jupyter": {
          "source_hidden": false,
          "outputs_hidden": false
        },
        "nteract": {
          "transient": {
            "deleting": false
          }
        },
        "gather": {
          "logged": 1722835752375
        }
      }
    },
    {
      "cell_type": "code",
      "source": [
        "# Let's try some different models:\n",
        "#   Logistic Regression Classifier      (Reduced Sample) Accuracy: 0.15476984656437626\n",
        "#   Sequential Model Dense & Dropout    (Reduced Sample) Accuracy: 0.1373\n",
        "#   Convolutional 1D & Pooling          (Reduced Sample) Accuracy: 0.6205 \n",
        "#   DNN Sequential Model        (Reduced Sample) Accuracy: 0.6796\n",
        "#   RNN Sequential Model        (Reduced Sample) Accuracy: 0.4775\n",
        "#   LSTM Module                 (Reduced Sample) Accuracy: 0.0602"
      ],
      "outputs": [],
      "execution_count": null,
      "metadata": {
        "jupyter": {
          "source_hidden": false,
          "outputs_hidden": false
        },
        "nteract": {
          "transient": {
            "deleting": false
          }
        },
        "gather": {
          "logged": 1722835752553
        }
      }
    },
    {
      "cell_type": "code",
      "source": [
        "# Logistic Regression Classifier\n",
        "\n",
        "classifier = LogisticRegression()\n",
        "classifier.fit(X_train, y_train)\n",
        "score = classifier.score(X_test, y_test)\n",
        "print(\"Accuracy:\", score)"
      ],
      "outputs": [],
      "execution_count": null,
      "metadata": {
        "jupyter": {
          "source_hidden": false,
          "outputs_hidden": false
        },
        "nteract": {
          "transient": {
            "deleting": false
          }
        },
        "gather": {
          "logged": 1722834017921
        },
        "editable": false,
        "run_control": {
          "frozen": true
        }
      }
    },
    {
      "cell_type": "code",
      "source": [
        "# Sequential Model: Dense & Dropout\n",
        "\n",
        "model = models.Sequential()\n",
        "model.add(layers.Dense(64, activation='relu', input_shape=(X_train.shape[1],)))\n",
        "model.add(layers.Dropout(0.2))\n",
        "model.add(layers.Dense(32, activation='relu'))\n",
        "model.add(layers.Dense(len(label_encoder.classes_), activation='softmax'))\n",
        "\n",
        "model.compile(loss='sparse_categorical_crossentropy', optimizer='adam', metrics=['accuracy'])\n",
        "model.summary()\n",
        "\n",
        "history = model.fit(X_train, y_train,\n",
        "    epochs=10,\n",
        "    #verbose=False,\n",
        "    validation_data=(X_test, y_test),\n",
        "    batch_size=32)\n",
        "\n",
        "loss, accuracy = model.evaluate(X_train, y_train, verbose=False)\n",
        "print(\"Training Accuracy: {:.4f}\".format(accuracy))\n",
        "loss, accuracy = model.evaluate(X_test, y_test, verbose=False)\n",
        "print(\"Testing Accuracy:  {:.4f}\".format(accuracy))\n",
        "\n",
        "pd.DataFrame(history.history)[['loss', 'val_loss']].plot()\n",
        "pd.DataFrame(history.history)[['accuracy', 'val_accuracy']].plot()"
      ],
      "outputs": [],
      "execution_count": null,
      "metadata": {
        "jupyter": {
          "source_hidden": false,
          "outputs_hidden": false
        },
        "nteract": {
          "transient": {
            "deleting": false
          }
        },
        "gather": {
          "logged": 1722834416211
        },
        "editable": false,
        "run_control": {
          "frozen": true
        }
      }
    },
    {
      "cell_type": "code",
      "source": [
        "# Convolutional 1D & Pooling\n",
        "\n",
        "num_features = vocab_size + 1\n",
        "embedding_dim = [10]\n",
        "\n",
        "dropout_rate = 0.1\n",
        "filters = 512\n",
        "kernel_size = 10\n",
        "pool_size = 9\n",
        "\n",
        "model = models.Sequential()\n",
        "\n",
        "model.add(layers.Embedding(num_features, 200, input_length=10))\n",
        "model.add(layers.Dropout(rate=dropout_rate))\n",
        "model.add(layers.Conv1D(filters=filters,\n",
        "    kernel_size=kernel_size,\n",
        "    activation='relu',\n",
        "    bias_initializer='random_uniform',\n",
        "    padding='same'))\n",
        "model.add(layers.MaxPooling1D(pool_size=pool_size))\n",
        "model.add(layers.Conv1D(filters=filters * 2,\n",
        "    kernel_size=kernel_size,\n",
        "    activation='relu',\n",
        "    bias_initializer='random_uniform',\n",
        "    padding='same'))\n",
        "model.add(layers.GlobalAveragePooling1D())\n",
        "model.add(layers.Dropout(rate=dropout_rate))\n",
        "model.add(layers.Dense(len(label_encoder.classes_), activation='softmax'))\n",
        "\n",
        "model.compile(loss='sparse_categorical_crossentropy', optimizer='adam', metrics=['accuracy'])\n",
        "model.summary()\n",
        "\n",
        "history = model.fit(X_train, y_train, epochs=10, verbose=True, batch_size=32, validation_data=(X_test, y_test))\n",
        "\n",
        "loss, accuracy = model.evaluate(X_train, y_train, verbose=0)\n",
        "print(\"Training Accuracy: {:.4f}\".format(accuracy))\n",
        "loss, accuracy = model.evaluate(X_test, y_test, verbose=0)\n",
        "print(\"Testing Accuracy:  {:.4f}\".format(accuracy))\n",
        "\n",
        "#pd.DataFrame(history.history)[['loss', 'val_loss']].plot()\n",
        "pd.DataFrame(history.history)[['accuracy', 'val_accuracy']].plot()"
      ],
      "outputs": [],
      "execution_count": null,
      "metadata": {
        "jupyter": {
          "source_hidden": false,
          "outputs_hidden": false
        },
        "nteract": {
          "transient": {
            "deleting": false
          }
        },
        "gather": {
          "logged": 1722835372799
        },
        "editable": false,
        "run_control": {
          "frozen": true
        }
      }
    },
    {
      "cell_type": "code",
      "source": [
        "# DNN Sequential Model\n",
        "\n",
        "model = models.Sequential([\n",
        "    #layers.Embedding(len(vectorizer.vocabulary_) + 1, 10, input_shape=[10]),\n",
        "    layers.Embedding(len(tokenizer.word_index) + 1, 200, input_shape=[10]),\n",
        "    layers.Lambda(lambda x: tf.reduce_mean(x, axis=1)),\n",
        "    layers.Dense(len(label_encoder.classes_), activation='softmax')\n",
        "])\n",
        "\n",
        "model.compile(\n",
        "    optimizer='adam',\n",
        "    loss='sparse_categorical_crossentropy',\n",
        "    metrics=['accuracy']\n",
        ")\n",
        "model.summary()\n",
        "\n",
        "# Train the DNN Sequential Model\n",
        "\n",
        "history = model.fit(X_train, y_train, epochs=10, verbose=True, batch_size=32, validation_data=(X_test, y_test))\n",
        "\n",
        "# Evaluate the DNN Sequential model\n",
        "\n",
        "loss, accuracy = model.evaluate(X_train, y_train, verbose=False)\n",
        "print(\"Training Accuracy: {:.4f}\".format(accuracy))\n",
        "loss, accuracy = model.evaluate(X_test, y_test, verbose=False)\n",
        "print(\"Testing Accuracy:  {:.4f}\".format(accuracy))\n",
        "\n",
        "#pd.DataFrame(history.history)[['loss', 'val_loss']].plot()\n",
        "pd.DataFrame(history.history)[['accuracy', 'val_accuracy']].plot()"
      ],
      "outputs": [],
      "execution_count": null,
      "metadata": {
        "jupyter": {
          "source_hidden": false,
          "outputs_hidden": false
        },
        "nteract": {
          "transient": {
            "deleting": false
          }
        },
        "gather": {
          "logged": 1722835635101
        },
        "editable": false,
        "run_control": {
          "frozen": true
        }
      }
    },
    {
      "cell_type": "code",
      "source": [
        "# RNN Sequential Model\n",
        "\n",
        "model = models.Sequential([\n",
        "    layers.Embedding(len(tokenizer.word_index) + 1, 10, input_shape=[10]),\n",
        "    layers.GRU(16),\n",
        "    layers.Dense(len(label_encoder.classes_), activation='softmax')\n",
        "])\n",
        "\n",
        "model.compile(\n",
        "    optimizer='adam',\n",
        "    loss='sparse_categorical_crossentropy',\n",
        "    metrics=['accuracy']\n",
        ")\n",
        "\n",
        "# Train the RNN Sequential Model\n",
        "\n",
        "history = model.fit(X_train, y_train, epochs=10, batch_size=32, validation_data=(X_test, y_test))\n",
        "\n",
        "# Evaluate the RNN Sequential model\n",
        "\n",
        "loss, accuracy = model.evaluate(X_train, y_train, verbose=False)\n",
        "print(\"Training Accuracy: {:.4f}\".format(accuracy))\n",
        "loss, accuracy = model.evaluate(X_test, y_test, verbose=False)\n",
        "print(\"Testing Accuracy:  {:.4f}\".format(accuracy))\n",
        "\n",
        "pd.DataFrame(history.history)[['loss', 'val_loss']].plot()\n",
        "pd.DataFrame(history.history)[['accuracy', 'val_accuracy']].plot()"
      ],
      "outputs": [],
      "execution_count": null,
      "metadata": {
        "jupyter": {
          "source_hidden": false,
          "outputs_hidden": false
        },
        "nteract": {
          "transient": {
            "deleting": false
          }
        },
        "gather": {
          "logged": 1722835702531
        },
        "editable": false,
        "run_control": {
          "frozen": true
        }
      }
    },
    {
      "cell_type": "code",
      "source": [
        "# LSTM Module\n",
        "\n",
        "model = keras.models.Sequential()\n",
        "#model.add(layers.Embedding(len(vectorizer.vocabulary_), 32, input_length=10))\n",
        "model.add(layers.Embedding(len(tokenizer.word_index), 32, input_length=10))\n",
        "model.add(layers.LSTM(64, dropout=0.1))\n",
        "model.add(layers.Dense(1, activation=\"sigmoid\"))\n",
        "\n",
        "model.compile(loss=keras.losses.BinaryCrossentropy(from_logits=False), optimizer='adam', metrics=[\"accuracy\"])\n",
        "model.summary()\n",
        "\n",
        "# Train the Model\n",
        "\n",
        "history = model.fit(X_train, y_train, epochs=10, verbose=True, batch_size=32, validation_data=(X_test, y_test))\n",
        "\n",
        "# Evaluate the model\n",
        "\n",
        "loss, accuracy = model.evaluate(X_train, y_train, verbose=False)\n",
        "print(\"Training Accuracy: {:.4f}\".format(accuracy))\n",
        "loss, accuracy = model.evaluate(X_test, y_test, verbose=False)\n",
        "print(\"Testing Accuracy:  {:.4f}\".format(accuracy))\n",
        "\n",
        "pd.DataFrame(history.history)[['loss', 'val_loss']].plot()\n",
        "pd.DataFrame(history.history)[['accuracy', 'val_accuracy']].plot()"
      ],
      "outputs": [],
      "execution_count": null,
      "metadata": {
        "jupyter": {
          "source_hidden": false,
          "outputs_hidden": false
        },
        "nteract": {
          "transient": {
            "deleting": false
          }
        },
        "gather": {
          "logged": 1722835787013
        },
        "editable": false,
        "run_control": {
          "frozen": true
        }
      }
    }
  ],
  "metadata": {
    "kernelspec": {
      "name": "python38-azureml",
      "language": "python",
      "display_name": "Python 3.8 - AzureML"
    },
    "language_info": {
      "name": "python",
      "version": "3.9.19",
      "mimetype": "text/x-python",
      "codemirror_mode": {
        "name": "ipython",
        "version": 3
      },
      "pygments_lexer": "ipython3",
      "nbconvert_exporter": "python",
      "file_extension": ".py"
    },
    "microsoft": {
      "ms_spell_check": {
        "ms_spell_check_language": "en"
      },
      "host": {
        "AzureML": {
          "notebookHasBeenCompleted": true
        }
      }
    },
    "kernel_info": {
      "name": "python38-azureml"
    },
    "nteract": {
      "version": "nteract-front-end@1.0.0"
    }
  },
  "nbformat": 4,
  "nbformat_minor": 2
}